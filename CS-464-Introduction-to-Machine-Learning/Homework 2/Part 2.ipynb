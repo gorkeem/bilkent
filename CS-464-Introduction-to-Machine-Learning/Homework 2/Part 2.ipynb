{
  "nbformat": 4,
  "nbformat_minor": 0,
  "metadata": {
    "colab": {
      "name": "Question2.ipynb",
      "provenance": [],
      "collapsed_sections": []
    },
    "kernelspec": {
      "name": "python3",
      "display_name": "Python 3"
    }
  },
  "cells": [
    {
      "cell_type": "code",
      "metadata": {
        "colab": {
          "base_uri": "https://localhost:8080/"
        },
        "id": "F89bxPgRCI0E",
        "outputId": "73ec91c2-ac6b-4cf3-faa8-9a68f67fa1bb"
      },
      "source": [
        "from google.colab import drive\n",
        "drive.mount('/content/drive')"
      ],
      "execution_count": null,
      "outputs": [
        {
          "output_type": "stream",
          "text": [
            "Drive already mounted at /content/drive; to attempt to forcibly remount, call drive.mount(\"/content/drive\", force_remount=True).\n"
          ],
          "name": "stdout"
        }
      ]
    },
    {
      "cell_type": "code",
      "metadata": {
        "id": "DqnmPF4WCrvG"
      },
      "source": [
        "# Imports\n",
        "import numpy as np\n",
        "import pandas as pd\n",
        "import matplotlib.pyplot as plt\n",
        "import random"
      ],
      "execution_count": null,
      "outputs": []
    },
    {
      "cell_type": "code",
      "metadata": {
        "id": "7NXBO9ViCV0u"
      },
      "source": [
        "# Read the dataset.\n",
        "dataset = pd.read_csv(\"q2_dataset.csv\").to_numpy()\n",
        "\n",
        "# Shuffle and split the dataset into 5 fold.\n",
        "random.shuffle(dataset)\n",
        "\n",
        "fold1 = dataset[:100]\n",
        "fold2 = dataset[100:200]\n",
        "fold3 = dataset[200:300]\n",
        "fold4 = dataset[300:400]\n",
        "fold5 = dataset[400:500]\n",
        "\n",
        "folds = [fold1, fold2, fold3, fold4, fold5]\n",
        "folds = np.asarray(folds)"
      ],
      "execution_count": null,
      "outputs": []
    },
    {
      "cell_type": "code",
      "metadata": {
        "id": "PrgQ8_cHAwCo"
      },
      "source": [
        "# Train function that calculates the weights.\n",
        "def trainKFold(X, Y):\n",
        "    # We calculate the weights by the formula in Question 2.1\n",
        "    B = np.linalg.inv(X.T.dot(X)).dot(X.T).dot(Y)\n",
        "    return B"
      ],
      "execution_count": null,
      "outputs": []
    },
    {
      "cell_type": "code",
      "metadata": {
        "id": "kY-QGHn0DIps"
      },
      "source": [
        "# Define the functions for errors.\n",
        "\n",
        "\n",
        "def MSE(pred, Y, beta):\n",
        "    return (np.sum((pred - Y)**2)) / len(Y)\n",
        "\n",
        "def R2(pred, Y, beta):\n",
        "    # 1 - RSS/TSS\n",
        "    return 1 - ( np.sum((Y-pred)**2) )/np.sum((Y-np.mean(pred))**2) \n",
        "\n",
        "def MAE(pred, Y, beta):\n",
        "    return np.sum(abs(pred-Y))  /(Y.shape[0])\n",
        "    \n",
        "def MAPE(pred, Y, beta):\n",
        "    return (1/Y.shape[0])* np.sum(abs((pred-Y)/Y))"
      ],
      "execution_count": null,
      "outputs": []
    },
    {
      "cell_type": "code",
      "metadata": {
        "id": "SGvLkDw87PYA"
      },
      "source": [
        "# Full Batch Gradient Descent for Lasso\n",
        "def fullbatch_gd(X, Y, epochs, learningRate, lambdal1):\n",
        "\n",
        "    samples = X.shape[0]\n",
        "    features = X.shape[1]\n",
        "\n",
        "    W = np.random.normal(0, 0.01, (features))\n",
        "    \n",
        "\n",
        "    for i in range(epochs):\n",
        "        z = np.dot(X, W)\n",
        "        a = 1 / (1 + np.exp(-z))\n",
        "\n",
        "        gradient = np.dot(X.T, (Y-a)) / samples\n",
        "        # W = W - learningRate * np.sum(gradient)\n",
        "        W = W - learningRate * np.sum(gradient) + (lambdal1 * np.sum(W))\n",
        "        # W = W + lambdal1 * np.sum(W)\n",
        "        # for k in W:\n",
        "        #     if k > 0:\n",
        "        #         k += lambdal1 * k\n",
        "        #     else:\n",
        "        #         k -= lambdal1 * k\n",
        "    \n",
        "    return W"
      ],
      "execution_count": null,
      "outputs": []
    },
    {
      "cell_type": "code",
      "metadata": {
        "colab": {
          "base_uri": "https://localhost:8080/"
        },
        "id": "EJIWy2anFUcH",
        "outputId": "339fd205-6490-4d25-8264-555e98698d84"
      },
      "source": [
        "# k Fold\n",
        "def kFold(folds, k, lambdaL1):\n",
        "    mse = []\n",
        "    r2 = []\n",
        "    mae = []\n",
        "    mape = []\n",
        "\n",
        "    for i in range(k):\n",
        "        testset = folds[i,:,:]\n",
        "        trainset = []\n",
        "\n",
        "        for m in range(k):\n",
        "            if m != i:\n",
        "                trainset.append(folds[m,:,:])\n",
        "\n",
        "        trainset = np.asarray(trainset)\n",
        "        trainset = trainset.reshape((trainset.shape)[0]*(trainset.shape)[1], (trainset.shape)[2])\n",
        "\n",
        "        # Separate labels from the trainset and testset\n",
        "        tests = testset[:,[0,1,2,3,4,5,6]]\n",
        "        testlabels = testset[:,[7]]\n",
        "        trains = trainset[:,[0,1,2,3,4,5,6]]\n",
        "        trainlabels = trainset[:,[7]]\n",
        "\n",
        "        # Train the model to calculate weights\n",
        "        if lambdaL1==0:\n",
        "            weights = trainKFold(trains, trainlabels)\n",
        "        else:\n",
        "            weights = fullbatch_gd(trains, trainlabels, 1000, 0.01, lambdaL1)\n",
        "        # Make predictions\n",
        "        pred = np.dot(tests, weights)\n",
        "\n",
        "        # Calculate errors\n",
        "        print(\"For Fold \", i+1, \" and lambda = \", lambdaL1)\n",
        "        mseResult = MSE(pred, testlabels, weights)\n",
        "        mse.append(mseResult)\n",
        "        print(\"Mean Squared Error: \\t\\t\\t\", mseResult)\n",
        "        r2Result = R2(pred, testlabels, weights)\n",
        "        r2.append(r2Result)\n",
        "        print(\"R^2: \\t\\t\\t\\t\\t\", r2Result)\n",
        "        maeResult = MAE(pred, testlabels, weights)\n",
        "        mae.append(maeResult)\n",
        "        print(\"Mean Absolute Error: \\t\\t\\t\", maeResult)\n",
        "        mapeResult = MAPE(pred, testlabels, weights)\n",
        "        mape.append(mapeResult)\n",
        "        print(\"Mean Absolute Percentage Error: \\t\", mapeResult)\n",
        "        print(\"\\n\")\n",
        "\n",
        "\n",
        "    \n",
        "    return mse, r2, mae, mape\n",
        "\n",
        "mse1, r21, mae1, mape1 = kFold(folds, (folds.shape)[0], 0)\n",
        "mse2, r22, mae2, mape2 = kFold(folds, (folds.shape)[0], 0.01)"
      ],
      "execution_count": null,
      "outputs": [
        {
          "output_type": "stream",
          "text": [
            "For Fold  1  and lambda =  0\n",
            "Mean Squared Error: \t\t\t 0.006684699269949809\n",
            "R^2: \t\t\t\t\t 0.716265640218082\n",
            "Mean Absolute Error: \t\t\t 0.06522573009986223\n",
            "Mean Absolute Percentage Error: \t 0.10937676266257071\n",
            "\n",
            "\n",
            "For Fold  2  and lambda =  0\n",
            "Mean Squared Error: \t\t\t 0.00799300061165037\n",
            "R^2: \t\t\t\t\t 0.7063165825758658\n",
            "Mean Absolute Error: \t\t\t 0.06473431883547837\n",
            "Mean Absolute Percentage Error: \t 0.11143915021176262\n",
            "\n",
            "\n",
            "For Fold  3  and lambda =  0\n",
            "Mean Squared Error: \t\t\t 0.006019600899147973\n",
            "R^2: \t\t\t\t\t 0.6869794729792029\n",
            "Mean Absolute Error: \t\t\t 0.0591312279473759\n",
            "Mean Absolute Percentage Error: \t 0.09123770867477536\n",
            "\n",
            "\n",
            "For Fold  4  and lambda =  0\n",
            "Mean Squared Error: \t\t\t 0.0039236688608282\n",
            "R^2: \t\t\t\t\t 0.7764116603911425\n",
            "Mean Absolute Error: \t\t\t 0.049213833551597724\n",
            "Mean Absolute Percentage Error: \t 0.07056575047348716\n",
            "\n",
            "\n",
            "For Fold  5  and lambda =  0\n",
            "Mean Squared Error: \t\t\t 0.003950703489047795\n",
            "R^2: \t\t\t\t\t 0.7839903412983226\n",
            "Mean Absolute Error: \t\t\t 0.049329905895567586\n",
            "Mean Absolute Percentage Error: \t 0.0755291600298313\n",
            "\n",
            "\n"
          ],
          "name": "stdout"
        },
        {
          "output_type": "stream",
          "text": [
            "/usr/local/lib/python3.6/dist-packages/ipykernel_launcher.py:12: RuntimeWarning: overflow encountered in exp\n",
            "  if sys.path[0] == '':\n"
          ],
          "name": "stderr"
        },
        {
          "output_type": "stream",
          "text": [
            "For Fold  1  and lambda =  0.01\n",
            "Mean Squared Error: \t\t\t 4.120824460737153e+74\n",
            "R^2: \t\t\t\t\t -99.18438094973801\n",
            "Mean Absolute Error: \t\t\t 2.0281125286751747e+38\n",
            "Mean Absolute Percentage Error: \t 3.0018282337383542e+38\n",
            "\n",
            "\n",
            "For Fold  2  and lambda =  0.01\n",
            "Mean Squared Error: \t\t\t 4.267116933544471e+74\n",
            "R^2: \t\t\t\t\t -99.2112868866517\n",
            "Mean Absolute Error: \t\t\t 2.063521282707958e+38\n",
            "Mean Absolute Percentage Error: \t 3.097421978281262e+38\n",
            "\n",
            "\n",
            "For Fold  3  and lambda =  0.01\n",
            "Mean Squared Error: \t\t\t 5.044630254858636e+73\n",
            "R^2: \t\t\t\t\t -99.19339784294762\n",
            "Mean Absolute Error: \t\t\t 7.09569790833345e+37\n",
            "Mean Absolute Percentage Error: \t 9.814445542772721e+37\n",
            "\n",
            "\n",
            "For Fold  4  and lambda =  0.01\n",
            "Mean Squared Error: \t\t\t 3.633325598373318e+74\n",
            "R^2: \t\t\t\t\t -99.18619208860707\n",
            "Mean Absolute Error: \t\t\t 1.904356375780606e+38\n",
            "Mean Absolute Percentage Error: \t 2.5778576249474057e+38\n",
            "\n",
            "\n",
            "For Fold  5  and lambda =  0.01\n",
            "Mean Squared Error: \t\t\t 3.89950428121806e+74\n",
            "R^2: \t\t\t\t\t -99.15800428734403\n",
            "Mean Absolute Error: \t\t\t 1.9731580314717632e+38\n",
            "Mean Absolute Percentage Error: \t 2.7448932680520022e+38\n",
            "\n",
            "\n"
          ],
          "name": "stdout"
        }
      ]
    },
    {
      "cell_type": "code",
      "metadata": {
        "id": "t8OZlaCRGYk_",
        "colab": {
          "base_uri": "https://localhost:8080/",
          "height": 1000
        },
        "outputId": "39c714a0-a046-49dd-aa73-ac7b3d5db8b4"
      },
      "source": [
        "# Question 2.4\n",
        "# Plot boxplot for each performance metrics for both models.\n",
        "def boxPlot(metric1, metric2, perfMetric):\n",
        "\n",
        "    data = [metric1, metric2]\n",
        "    plt.figure(figsize=(20, 10))\n",
        "    plt.boxplot(data, labels=[\"linalg\", \"lasso\"])\n",
        "    plt.title(\"Boxplot of {}\".format(perfMetric), fontsize=15)\n",
        "    plt.show()\n",
        "\n",
        "boxPlot(mse1, mse2, \"Mean Squared Error\")\n",
        "boxPlot(r21, r22, \"R^2 Error\")\n",
        "boxPlot(mae1, mae2, \"Mean Absolute Error\")\n",
        "boxPlot(mape1, mape2, \"Mean Absolute Percentage Error\")"
      ],
      "execution_count": null,
      "outputs": [
        {
          "output_type": "display_data",
          "data": {
            "image/png": "[encoded data removed]",
            "text/plain": [
              "<Figure size 1440x720 with 1 Axes>"
            ]
          },
          "metadata": {
            "tags": [],
            "needs_background": "light"
          }
        },
        {
          "output_type": "display_data",
          "data": {
            "image/png": "[encoded data removed]",
            "text/plain": [
              "<Figure size 1440x720 with 1 Axes>"
            ]
          },
          "metadata": {
            "tags": [],
            "needs_background": "light"
          }
        },
        {
          "output_type": "display_data",
          "data": {
            "image/png": "[encoded data removed]",
            "text/plain": [
              "<Figure size 1440x720 with 1 Axes>"
            ]
          },
          "metadata": {
            "tags": [],
            "needs_background": "light"
          }
        },
        {
          "output_type": "display_data",
          "data": {
            "image/png": "[encoded data removed]",
            "text/plain": [
              "<Figure size 1440x720 with 1 Axes>"
            ]
          },
          "metadata": {
            "tags": [],
            "needs_background": "light"
          }
        }
      ]
    },
    {
      "cell_type": "code",
      "metadata": {
        "id": "PEuXvhM0FGDy"
      },
      "source": [
        ""
      ],
      "execution_count": null,
      "outputs": []
    }
  ]
}