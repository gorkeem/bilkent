{
  "nbformat": 4,
  "nbformat_minor": 0,
  "metadata": {
    "colab": {
      "name": "cs464_fall20_hw3.ipynb",
      "provenance": [],
      "collapsed_sections": [],
      "toc_visible": true
    },
    "kernelspec": {
      "name": "python3",
      "display_name": "Python 3"
    },
    "accelerator": "GPU"
  },
  "cells": [
    {
      "cell_type": "markdown",
      "metadata": {
        "id": "KDSS2c_hXISc"
      },
      "source": [
        "**<h1><center>CS 464</center></h1>**\n",
        "**<h1><center>Introduction to Machine Learning</center></h1>**\n",
        "**<h1><center>Fall 2020</center></h1>**\n",
        "**<h1><center>Homework 3</center></h1>**\n",
        "<h4><center>Due: Jan 03, 2021 23:59 (GMT+3)</center></h4>"
      ]
    },
    {
      "cell_type": "markdown",
      "metadata": {
        "id": "W5qurNR3XkKT"
      },
      "source": [
        "### Instructions\n",
        "\n",
        "<ul>\n",
        "    <li>\n",
        "    This homework contains both written and programming questions about neural networks. You should implement programming questions on this notebook. Your plots should also be produced in this notebook. Each programming question has its own cell for your answer. You can implement your code directly in these cells, or you can call required functions which are defined in a different location for the given question.\n",
        "    </li>\n",
        "    <li>\n",
        "    For questions that you need to plot, your plot results have to be included in the cell output. For written questions, you may provide them either as comments in code cells or as seperate text cells. \n",
        "    </li>\n",
        "    <li>\n",
        "    You are <b>NOT ALLOWED</b> to use different libraries than given libraries in the code segments of this homework except for libraries inclueded in Python Standard Library (https://docs.python.org/3/library/).\n",
        "    </li>\n",
        "    <li>\n",
        "    You are <b>NOT ALLOWED</b> to use a different deep learning framework than PyTorch.\n",
        "    </li>\n",
        "    <li>\n",
        "    While submitting the homework file, please package notebook(\".ipynb\") and model (\".pth\") files as a gzipped TAR file or a ZIP file with the name cs464_hw3_section#_Firstname_Lastname. Please do not use any Turkish letters for any of your files including code files and model files. Upload your homework to Moodle.\n",
        "    </li>\n",
        "    <li>\n",
        "    This is an individual assignment for each student. That is, you are NOT allowed to share your work with your classmates.</li>\n",
        "    <li> \n",
        "    If you do not follow the submission routes, deadlines and specifications, it will lead to a significant grade deduction.\n",
        "    </li>\n",
        "    <li> \n",
        "    If you have any questions, please contact \"ilaydabeyreli@gmail.com\" or \"ilayda.beyreli@bilkent.edu.tr\".\n",
        "    </li>\n",
        "\n",
        "</ul>"
      ]
    },
    {
      "cell_type": "markdown",
      "metadata": {
        "id": "9d7BOVodYiGe"
      },
      "source": [
        "## Environment Setup"
      ]
    },
    {
      "cell_type": "markdown",
      "metadata": {
        "id": "EPlCx2GsYnHS"
      },
      "source": [
        "This homewrok is prepeared by using Google CoLab which already has required libraries. However, if you are using your own local Jupyter or any other Python notebook editor, you may use both anaconda or pip to install PyTorch to your own computer."
      ]
    },
    {
      "cell_type": "markdown",
      "metadata": {
        "id": "LM4dpplWZBGS"
      },
      "source": [
        "### Anaconda Installation\n",
        "\n",
        "<ul>\n",
        "    <li>Download anaconda from https://www.anaconda.com/download</li>\n",
        "    <li>Follow the instructions provided in https://conda.io/docs/user-guide/install/index.html#regular-installation</li>\n",
        "</ul>\n",
        "\n",
        "#### Creation of Virtual Environment\n",
        "\n",
        "<ul>\n",
        "    <li>Create python3.7 virtual environment for your hw3 using follow command from the command line<br>\n",
        "        <i>> conda create -n HW3 python=3.7 anaconda</i></li>\n",
        "    <li>Activate your virtual environment<br>\n",
        "        <i>> source activate HW3</i></li>\n",
        "    <li>To install auxiliary libraries, replace the \"package_name\" in the following command and run it in activated \"hw3\" environment <br>\n",
        "        <i>> pip install \"pacakge_name\"<i></li>\n",
        "     <li>When you create your virtual environment with \"anaconda\" metapackage, jupyter notebook should be installed. Try:<br>\n",
        "         <i>> jupyter notebook</i>\n",
        "</ul>\n",
        "\n",
        "\n",
        "#### Pytorch Installation with Anaconda\n",
        "\n",
        "You should install PyTorch to your virtual environment which is created for the hw3. Therefore, you should activate your homework virtual environment before to start PyTorch installation.\n",
        "<li>> source activate HW3</li>\n",
        "\n",
        "After you have activated the virtual environment, then use one of the following commands to install pytorch for CPU for your system. See https://pytorch.org/ for help.\n",
        "<ul>\n",
        "<li>For MacOS:<br>\n",
        "    <i>> conda install pytorch torchvision -c pytorch</i>\n",
        "</li>\n",
        "<li>For Linux:<br>\n",
        "    <i>> conda install pytorch-cpu torchvision-cpu -c pytorch</i>\n",
        "</li>\n",
        "<li>For Windows:<br>\n",
        "    <i>> conda install pytorch-cpu torchvision-cpu -c pytorch</i><br>\n",
        "</li>"
      ]
    },
    {
      "cell_type": "markdown",
      "metadata": {
        "id": "AVlcWIXEZZGO"
      },
      "source": [
        "###Pip3 Installation\n",
        "<ul>\n",
        "    <li>Download pip3 from https://pip.pypa.io/en/stable/installing/</li>\n",
        "    <li>If you are using Windows, you may need to add Python to your enviroment variables. You may use the following tutorial to install Python and pip.\n",
        "    https://phoenixnap.com/kb/how-to-install-python-3-windows</li>\n",
        "</ul>\n",
        "\n",
        "#### PyTorch Installation with Pip\n",
        "<ul>\n",
        "<li>For MacOS:<br>\n",
        "    <i>> pip3 install torch torchvision</i>\n",
        "</li>\n",
        "<li>For Linux:<br>\n",
        "    <i>> pip3 install torch==1.3.1+cpu torchvision==0.4.2+cpu -f https://download.pytorch.org/whl/torch_stable.html</i>\n",
        "</li>\n",
        "<li>For Windows:<br>\n",
        "    <i>> pip3 install torch==1.3.1+cpu torchvision==0.4.2+cpu -f https://download.pytorch.org/whl/torch_stable.html</i><br>\n",
        "</li>\n"
      ]
    },
    {
      "cell_type": "markdown",
      "metadata": {
        "id": "I0CsUtpmZmBk"
      },
      "source": [
        "##Question 1 [12 pts.]\n",
        "\n",
        "Answer the given questions with **at most a sentence**.\n",
        "\n",
        "  >a) What is one reason not to use the same data for both your training set and your testing set?<br>\n",
        "\n",
        "  >b) Why is it important for machine learning algorithms to have access to high-quality(large and accurate enough) data ?<br>\n",
        "\n",
        "  >c) What is the main motivation for using activation functions in artificial neural networks (ANNs)?<br>\n",
        "\n",
        "  >d) The activations for class A, B and C before softmax were 12, 7 and 4. What would be the softmax values for class A and class B?<br>\n",
        "\n",
        "  >e) What does it mean to underfit your data model?<br>\n",
        "\n",
        "  >f) Consider you have a 14 class classification problem. What would be the probability of random guess?<br>\n",
        "\n",
        "\n"
      ]
    },
    {
      "cell_type": "markdown",
      "metadata": {
        "id": "-oTB21Y_muJI"
      },
      "source": [
        "Answers to Question 1\r\n",
        "\r\n",
        "a) We don't want to use the same data for both training and testing because we want to be unbiased when we make classification by testing the model with a data that has not been encountered in training.\r\n",
        "\r\n",
        "b) In order to train the model well enough large and accurate enough of data is necessary becuase if there are small amount of data then model can be overtrained and if there not accurate data in training, model cannot perform well in testing when it comes across to accurate data.\r\n",
        "\r\n",
        "c)The main motivation is making the output not a linear combination of the input.\r\n",
        "\r\n",
        "d) After the softmax, value of A would be 9.92976272 ~= 10 and value of B would be 6.69062149 ~= 7.\r\n",
        "\r\n",
        "e) It means that the model does not learn the patterns well enough to understand and process them.\r\n",
        "\r\n",
        "f) Probability of random guess would be 1/14 ~= 0.071 for 14 class classification problem."
      ]
    },
    {
      "cell_type": "markdown",
      "metadata": {
        "id": "fnAVhRr4eTPo"
      },
      "source": [
        "##Question 2 [88 pts.]"
      ]
    },
    {
      "cell_type": "markdown",
      "metadata": {
        "id": "GnaXgIskP6iY"
      },
      "source": [
        "Computer vision (CV) is the field of study that deals with how computers can gain high-level understanding from digital images or videos. Your task for this question is to classify cats according to their breeds by using simple machine learning algorithms developed for CV problems on cat images.\n",
        "\n",
        "Your dataset consist of XXX cat images from 15 breeds. Images of each breed is stored under separate folders in the compressed file given to you.  The dataset has been processed in such a way that each class has approximately 1900 samples.\n",
        "\n",
        "Download the dataset from the following link:\n",
        "<br>\n",
        "https://drive.google.com/.....\n",
        "<br>\n",
        "\n",
        "Libraries that are required in this question is given in the following code cell."
      ]
    },
    {
      "cell_type": "code",
      "metadata": {
        "id": "Z37KSYkSXHtz",
        "colab": {
          "base_uri": "https://localhost:8080/"
        },
        "outputId": "1242df2d-b8e7-42d9-85f3-84d864d1f03f"
      },
      "source": [
        "# Mount Google Drive\n",
        "from google.colab import drive\n",
        "drive.mount('/content/drive')\n",
        "\n",
        "# Open the dataset zip\n",
        "!unzip -q \"/content/drive/MyDrive/Colab Notebooks/data.zip\"\n",
        "\n",
        "# PyTorch\n",
        "import torch\n",
        "import torch.nn as nn\n",
        "import torch.nn.functional as F\n",
        "# To Read Data\n",
        "from torch.utils.data import Dataset, DataLoader\n",
        "import numpy as np\n",
        "from PIL import Image\n",
        "# To Interpret results & obtain plots\n",
        "from sklearn.model_selection import train_test_split\n",
        "from sklearn.metrics import confusion_matrix, f1_score, precision_score, recall_score, accuracy_score\n",
        "import matplotlib.pyplot as plt\n",
        "\n",
        "# You could add your own libraries form Python Standard Library in this cell. Any other external libraries are not allowed.\n",
        "import os\n",
        "import random\n",
        "import math"
      ],
      "execution_count": 1,
      "outputs": [
        {
          "output_type": "stream",
          "text": [
            "Mounted at /content/drive\n"
          ],
          "name": "stdout"
        }
      ]
    },
    {
      "cell_type": "markdown",
      "metadata": {
        "id": "Kkd-WIVwTQsn"
      },
      "source": [
        "### Data Loader [8 pts.]\n",
        "\n",
        "An important part of such a task is to implement your own data loader. In this homework, a partial loader is provided to you. This loader is going to be based on a base class named \"Dataset\", provided in PyTorch library. You need to complete the code below to create your custom \"CatsDataset\" class which will be able to load your dataset. Implement the functions whose proptotypes are given. Follow the TODO notes below. You have to divide the files into three sets as <b>train (70%)</b>, \n",
        "<b>validation (10%)</b> and **test (20%)** sets.  These non-overlapping splits, which are subsets of CatsDataset, should be retrieved using the \"get_dataset\" function. Since this data loader will be called to get the input for different models, your function should work in a least two modes:\n",
        "1. To be compatible with MLP, you need to resize the image to 64x64x3 to have consistent input size for all images. Then, you should convert your image to grayscale and flatten it into a vector. Note that the pixel values also needs to be normalized to [0,1] range.\n",
        "<br>\n",
        "2. To be compatible with CNN, you need to resize the image to 64x64x3 to have consistent input size for all images. Note that, you **should not** flatten the image or convert it to grayscale in this mode, i.e. all channels of the images should be included and each image should be stored as a matrix.\n",
        "\n",
        "Hint: The dataset is not normalized and your results will heavily depend on your input."
      ]
    },
    {
      "cell_type": "code",
      "metadata": {
        "id": "x9fac_LpYdXE"
      },
      "source": [
        "class CatsDataset(Dataset):\n",
        "    # TODO:\n",
        "    # Define constructor for SVHNDataset class\n",
        "    # HINT: You can pass processed data samples and their ground truth values as parameters \n",
        "    #def __init__(self, **kwargs): # you are free to change parameters\n",
        "    def __init__(self,  imgs_list, class_to_int, mode):\n",
        "        super().__init__()\n",
        "        self.imgs_list = imgs_list\n",
        "        self.class_to_int = class_to_int\n",
        "        self.mode = mode\n",
        "        \n",
        "        \n",
        "    '''This function should return sample count in the dataset'''\n",
        "    def __len__(self):\n",
        "       return len(self.imgs_list)\n",
        "\n",
        "    '''This function should return a single sample and its ground truth value from the dataset corresponding to index parameter '''\n",
        "    def __getitem__(self, index):\n",
        "        image_path = self.imgs_list[index]\n",
        "        image = Image.open(image_path)\n",
        "        \n",
        "        if self.mode == 1:  # MLP\n",
        "            # image = ImageOps.grayscale(image)  \n",
        "            image = image.resize((64,64))\n",
        "            image = np.array(image.convert(\"L\")).flatten()\n",
        "            image = image.astype('float32')\n",
        "            image /= 255.0 # Normalize image\n",
        "            \n",
        "        if self.mode == 2:  # CNN\n",
        "            image = image.resize((64,64))\n",
        "            image = np.array(image)\n",
        "            image = image.astype('float32')\n",
        "\n",
        "        #Retriving class label\n",
        "        label = image_path.split(\"/\")[-2]\n",
        "        label = self.class_to_int[label]\n",
        "\n",
        "        return image, label"
      ],
      "execution_count": 2,
      "outputs": []
    },
    {
      "cell_type": "code",
      "metadata": {
        "id": "vE3b0p2IWrdo"
      },
      "source": [
        "def get_dataset(root, mode):\n",
        "    # TODO: \n",
        "    # Read dataset files\n",
        "    classes = os.listdir(root)\n",
        "\n",
        "    imgs = []\n",
        "    for _class in classes:\n",
        "        for img in os.listdir(root + \"/\" + _class):\n",
        "            imgs.append(root + \"/\" + _class + \"/\" + img)\n",
        "    class_to_int = {classes[i] : i for i in range(len(classes))}\n",
        "    \n",
        "    \n",
        "    # Shuffle imgs and divide it to train, test and validation\n",
        "    random.shuffle(imgs)\n",
        "    training = imgs[:math.floor(len(imgs) * 0.7)]\n",
        "    testing = imgs[math.floor(len(imgs) * 0.7):math.floor(len(imgs) * 0.9)]\n",
        "    validating = imgs[math.floor(len(imgs) * 0.9):]\n",
        "\n",
        "    # Create datasets\n",
        "    train_dataset = CatsDataset(training, class_to_int, mode)\n",
        "    test_dataset = CatsDataset(testing, class_to_int, mode)\n",
        "    val_dataset = CatsDataset(validating, class_to_int, mode)\n",
        "\n",
        "    return train_dataset, test_dataset, val_dataset"
      ],
      "execution_count": 3,
      "outputs": []
    },
    {
      "cell_type": "markdown",
      "metadata": {
        "id": "iz1yad18Yo7m"
      },
      "source": [
        "###Model Implementations [10 pts.]"
      ]
    },
    {
      "cell_type": "markdown",
      "metadata": {
        "id": "xhv_2w2oZVcL"
      },
      "source": [
        "#### Multi Layer Perceptron [5 pts.]\n",
        "Now, implement your three layer neural network. (Input+hidden1+hidden2) FNet class will represent your neural network. The first hidden layer will contain 2048 neurons, and the second will have 1024 neurons. You will decide the number of input and output neurons. Use ReLU as your hidden layer activation function. You need to pick a proper activation function for the output layer."
      ]
    },
    {
      "cell_type": "code",
      "metadata": {
        "id": "kLbnCwuvYy1N"
      },
      "source": [
        "class FNet(nn.Module):\n",
        "    '''Define your neural network'''\n",
        "    # def __init__(self, **kwargs):\n",
        "    def __init__(self):\n",
        "        super(FNet, self).__init__()\n",
        "        self.fc1 = nn.Linear(64*64, 2048) # Input is 64*64 flattened image\n",
        "        self.fc2 = nn.Linear(2048, 1024)\n",
        "        self.fc3 = nn.Linear(1024, 13)\n",
        "\n",
        "    def forward(self, X): \n",
        "        X = X.view(-1,64*64)\n",
        "        X = F.relu(self.fc1(X))\n",
        "        X = F.relu(self.fc2(X))\n",
        "        X = self.fc3(X)\n",
        "        return X"
      ],
      "execution_count": 4,
      "outputs": []
    },
    {
      "cell_type": "markdown",
      "metadata": {
        "id": "wFVQay-2Z7Ix"
      },
      "source": [
        "#### Convolutional Neural Network [5 pts]\n",
        "\n",
        "Now implement your CNN. ConvNet class will represent your convolutional neural network. Implement 4 layers of convolution: \n",
        "<ul>\n",
        "    <li>(1) 8 filters with size of 3 x 3 with stride 1 and no padding, (2) ReLU </li>\n",
        "    <li>(3) 16 filters with size of 3 x 3 with stride 1 and no padding, (4) ReLU and (5) MaxPool 2 x 2 </li>\n",
        "    <li>(6) 32 filters with size of 5 x 5 with stride 1 and padding 1, (7) ReLU and (8) MaxPool 2 x 2 </li> \n",
        "    <li>(9) 32 filters with size of 5 x 5 with stride 1 and padding 1, (10) ReLU and (11) MaxPool 2 x 2 </li> \n",
        "</ul>\n",
        "\n",
        "As the classifier layer, you need to add only one linear layer at the end of the network. You need to choose the appropriate input and output neuron sizes and the activation function for the dense layer."
      ]
    },
    {
      "cell_type": "code",
      "metadata": {
        "id": "lNnoeEy-aGA3"
      },
      "source": [
        "class ConvNet(nn.Module):\n",
        "    '''Define your neural network'''\n",
        "    def __init__(self):\n",
        "        super(ConvNet, self).__init__()\n",
        "        self.convnet = nn.Sequential(\n",
        "            nn.Conv2d(3, 8, 3, stride=1),\n",
        "            nn.ReLU(),\n",
        "            nn.Conv2d(8, 16, 3, stride=1),\n",
        "            nn.ReLU(),\n",
        "            nn.MaxPool2d((2,2)),\n",
        "            nn.Conv2d(16, 32, 5, stride=1, padding=1),\n",
        "            nn.ReLU(),\n",
        "            nn.MaxPool2d((2,2)),\n",
        "            nn.Conv2d(32, 32, 5, stride=1, padding=1),\n",
        "            nn.ReLU(),\n",
        "            nn.MaxPool2d((2,2)),\n",
        "        )\n",
        "        self.linear = nn.Linear(1152, 13) # There are 13 classes so output=13\n",
        "     \n",
        "    def forward(self, X): # you can add any additional parameters you want\n",
        "        insize = X.size(0)\n",
        "        X = self.convnet(X)\n",
        "        X = X.view(insize, -1)\n",
        "        X = self.linear(X)\n",
        "        return F.log_softmax(X) "
      ],
      "execution_count": 5,
      "outputs": []
    },
    {
      "cell_type": "markdown",
      "metadata": {
        "id": "s4HT9fvm_jgX"
      },
      "source": [
        "###Stochastic Gradient Descent [35 pts.]"
      ]
    },
    {
      "cell_type": "markdown",
      "metadata": {
        "id": "ZJO7J4sf7YGZ"
      },
      "source": [
        "####Training with SGD [20 pts.]\r\n",
        "\r\n",
        "Train both models up to 700 epochs with properly processed inputs, i.e. call your \"get_dataset\" function in mode \"1\" for MLP and mode \"2\" for CNN. Use SGD as your optimizer. Tune your learning rate, weight decay. Take momentum as $0$ Save your best models, i.e. MLP and CNN models with highest performance, as \"best_mlp_sgd.pth\" and \"best_cnn_sgd.pth\". The best model decision is up to you. You could use any measurement and/or metric to decide on the best model for each network. However, you must explain your reasoning in your choice.\r\n",
        "\r\n",
        "During training, you need to plot two figures for each model:\r\n",
        "1. training loss and validation loss vs. epoch\r\n",
        "2. validation acuracy and validation accuracy vs. epoch <br>\r\n",
        "\r\n",
        "Name your axes and plots properly."
      ]
    },
    {
      "cell_type": "markdown",
      "metadata": {
        "id": "hZAipFZ2uWGY"
      },
      "source": [
        "--> In order to decide on the best model, I compared validation losses, saved the model with least validation loss in all parts of this assignment. Because in validation, we evaluate the model and therefore choosing a metric from evaluation part better compared to choosing a metric from training section. I choosed loss instead of accuracy because in some epochs, loss changes but accuracy is still the same. If I choosed accuracy, probably I couldn't save the best model."
      ]
    },
    {
      "cell_type": "code",
      "metadata": {
        "id": "28Zs63u-CQn9",
        "colab": {
          "base_uri": "https://localhost:8080/",
          "height": 1000
        },
        "outputId": "680d9460-62a6-4592-ba45-8da9f90f6006"
      },
      "source": [
        "# Pick your hyper parameters\r\n",
        "max_epoch = 50\r\n",
        "train_batch = 64\r\n",
        "val_batch = 32\r\n",
        "test_batch = 1\r\n",
        "learning_rate = 0.0001\r\n",
        "\r\n",
        "# use_gpu = torch.cuda.is_available()\r\n",
        "\r\n",
        "# Get datasets\r\n",
        "train_dataset, test_dataset, val_dataset = get_dataset(\"/content/data\", 1)\r\n",
        "# Create train dataset loader\r\n",
        "train_dataset_loader = DataLoader(\r\n",
        "    dataset = train_dataset,\r\n",
        "    batch_size = train_batch,\r\n",
        "    shuffle=True,\r\n",
        "    num_workers = 4,\r\n",
        ")\r\n",
        "# Create validation dataset loader\r\n",
        "val_dataset_loader = DataLoader(\r\n",
        "    dataset = val_dataset,\r\n",
        "    batch_size = val_batch,\r\n",
        "    num_workers = 4,\r\n",
        ")\r\n",
        "# Create test dataset loader\r\n",
        "test_dataset_loader_mlp = DataLoader(\r\n",
        "    dataset = test_dataset,\r\n",
        "    batch_size = test_batch,\r\n",
        "    num_workers = 4,\r\n",
        ")\r\n",
        "# initialize your network\r\n",
        "model = FNet() \r\n",
        "\r\n",
        "# define your loss function\r\n",
        "criterion = nn.CrossEntropyLoss()\r\n",
        "\r\n",
        "optimizer = torch.optim.SGD(model.parameters(), lr=learning_rate, momentum=0, weight_decay=5e-04) # you can play with  weight_decay as well\r\n",
        "\r\n",
        "train_loss = []\r\n",
        "train_accuracy = []\r\n",
        "\r\n",
        "val_loss = []\r\n",
        "val_accuracy = []\r\n",
        "\r\n",
        "min_loss = 100\r\n",
        "# start training\r\n",
        "# for each epoch calculate validation performance\r\n",
        "# save best model according to validation performance\r\n",
        "    \r\n",
        "for epoch in range(max_epoch):\r\n",
        "\r\n",
        "    train_epoch_loss = []\r\n",
        "    train_epoch_accuracy = []\r\n",
        "    \r\n",
        "    val_epoch_loss = []\r\n",
        "    val_epoch_accuracy = []\r\n",
        "\r\n",
        "    model=model.train()\r\n",
        "    for image, label in train_dataset_loader:\r\n",
        "        optimizer.zero_grad()\r\n",
        "        # Forward\r\n",
        "        preds = model(image)\r\n",
        "\r\n",
        "        # Accuracy\r\n",
        "        probs = torch.softmax(preds, dim=1)\r\n",
        "        winners = probs.argmax(dim=1)\r\n",
        "        corrects = (winners == label)\r\n",
        "        accuracy = corrects.sum().float() / float( label.size(0) )\r\n",
        "        acc = (torch.softmax(preds, dim=1).argmax(dim=1) == label).sum().float() * 100 / float( label.size(0) )\r\n",
        "\r\n",
        "        # Loss\r\n",
        "        #Calculate Loss & Backward, Update Weights (Step)\r\n",
        "        loss = criterion(preds, label)\r\n",
        "        loss.backward()\r\n",
        "        optimizer.step()\r\n",
        "\r\n",
        "        #Append loss & acc\r\n",
        "        loss_value = loss.item()\r\n",
        "        train_epoch_loss.append(loss_value)\r\n",
        "        train_epoch_accuracy.append(acc)\r\n",
        "\r\n",
        "    \r\n",
        "    correct = 0\r\n",
        "    model = model.eval()\r\n",
        "    for image, label in val_dataset_loader:\r\n",
        "        with torch.no_grad():\r\n",
        "            # Forward\r\n",
        "            preds = model(image)\r\n",
        "\r\n",
        "            # Accuracy\r\n",
        "            # true = label\r\n",
        "            # pred = F.softmax(preds, dim = 1)\r\n",
        "            # true = torch.zeros(pred.shape[0], pred.shape[1]).scatter_(1, true.unsqueeze(1), 1.)\r\n",
        "            # acc = (true.argmax(-1) == pred.argmax(-1)).float().detach().numpy()\r\n",
        "            # acc = float((100 * acc.sum()) / len(acc))\r\n",
        "            # acc = round(acc, 4)\r\n",
        "\r\n",
        "            probs = torch.softmax(preds, dim=1)\r\n",
        "            winners = probs.argmax(dim=1)\r\n",
        "            corrects = (winners == label)\r\n",
        "            accuracy = corrects.sum().float() / float( label.size(0) )\r\n",
        "            acc = (torch.softmax(preds, dim=1).argmax(dim=1) == label).sum().float() * 100 / float( label.size(0))\r\n",
        "\r\n",
        "            # Loss\r\n",
        "            loss = criterion(preds, label)\r\n",
        "            #Append loss & acc\r\n",
        "            loss_value = loss.item()\r\n",
        "            val_epoch_loss.append(loss_value)\r\n",
        "            val_epoch_accuracy.append(acc)\r\n",
        "\r\n",
        "            if loss_value < min_loss:\r\n",
        "                min_loss = loss_value\r\n",
        "                torch.save(model, \"/content/drive/MyDrive/Colab Notebooks/best_mlp_sgd.pth\")\r\n",
        "\r\n",
        "    print(\"Epoch {}/{}, Loss: {:.3f}, Acc: {:.3f}, Val. Loss: {:.3f}, Val. Acc: {:.3f}\".format(\r\n",
        "        epoch+1,max_epoch, \r\n",
        "        train_epoch_loss[-1], \r\n",
        "        train_epoch_accuracy[-1],\r\n",
        "        val_epoch_loss[-1],\r\n",
        "        val_epoch_accuracy[-1]))\r\n",
        "\r\n",
        "\r\n",
        "    train_epoch_loss = np.mean(train_epoch_loss)\r\n",
        "    train_epoch_accuracy = np.mean(train_epoch_accuracy)\r\n",
        "    \r\n",
        "    val_epoch_loss = np.mean(val_epoch_loss)\r\n",
        "    val_epoch_accuracy = np.mean(val_epoch_accuracy)\r\n",
        "    \r\n",
        "    train_loss.append(train_epoch_loss)\r\n",
        "    train_accuracy.append(train_epoch_accuracy)\r\n",
        "    \r\n",
        "    val_loss.append(val_epoch_loss)\r\n",
        "    val_accuracy.append(val_epoch_accuracy)\r\n",
        "\r\n",
        "\r\n",
        "# plot losses vs epoch \r\n",
        "epochs = range(0, max_epoch)\r\n",
        "plt.plot(epochs, train_loss, 'g', label=\"Training Loss\")\r\n",
        "plt.plot(epochs, val_loss, 'r', label=\"Validation Loss\")\r\n",
        "plt.title(\"Loss vs Epoch\")\r\n",
        "plt.xlabel(\"Epoch\")\r\n",
        "plt.ylabel(\"Loss\")\r\n",
        "plt.legend()\r\n",
        "plt.show()\r\n",
        "\r\n",
        "# plot accuracies vs epoch\r\n",
        "plt.plot(epochs, train_accuracy, 'g', label=\"Training Accuracy\")\r\n",
        "plt.plot(epochs, val_accuracy, 'r', label=\"Validation Accuracy\")\r\n",
        "plt.title(\"Accuracy vs Epoch\")\r\n",
        "plt.xlabel(\"Epoch\")\r\n",
        "plt.ylabel(\"Accuracy\")\r\n",
        "plt.legend()\r\n",
        "plt.show()\r\n"
      ],
      "execution_count": 6,
      "outputs": [
        {
          "output_type": "stream",
          "text": [
            "Epoch 1/50, Loss: 2.566, Acc: 7.143, Val. Loss: 2.559, Val. Acc: 9.524\n",
            "Epoch 2/50, Loss: 2.559, Acc: 21.429, Val. Loss: 2.559, Val. Acc: 9.524\n",
            "Epoch 3/50, Loss: 2.580, Acc: 7.143, Val. Loss: 2.559, Val. Acc: 9.524\n",
            "Epoch 4/50, Loss: 2.565, Acc: 7.143, Val. Loss: 2.559, Val. Acc: 9.524\n",
            "Epoch 5/50, Loss: 2.561, Acc: 7.143, Val. Loss: 2.559, Val. Acc: 9.524\n",
            "Epoch 6/50, Loss: 2.559, Acc: 14.286, Val. Loss: 2.559, Val. Acc: 9.524\n",
            "Epoch 7/50, Loss: 2.577, Acc: 7.143, Val. Loss: 2.558, Val. Acc: 9.524\n",
            "Epoch 8/50, Loss: 2.554, Acc: 7.143, Val. Loss: 2.558, Val. Acc: 14.286\n",
            "Epoch 9/50, Loss: 2.557, Acc: 21.429, Val. Loss: 2.558, Val. Acc: 14.286\n",
            "Epoch 10/50, Loss: 2.559, Acc: 21.429, Val. Loss: 2.557, Val. Acc: 19.048\n",
            "Epoch 11/50, Loss: 2.577, Acc: 14.286, Val. Loss: 2.557, Val. Acc: 14.286\n",
            "Epoch 12/50, Loss: 2.563, Acc: 14.286, Val. Loss: 2.557, Val. Acc: 14.286\n",
            "Epoch 13/50, Loss: 2.537, Acc: 42.857, Val. Loss: 2.556, Val. Acc: 14.286\n",
            "Epoch 14/50, Loss: 2.550, Acc: 21.429, Val. Loss: 2.556, Val. Acc: 14.286\n",
            "Epoch 15/50, Loss: 2.543, Acc: 21.429, Val. Loss: 2.555, Val. Acc: 14.286\n",
            "Epoch 16/50, Loss: 2.562, Acc: 7.143, Val. Loss: 2.555, Val. Acc: 9.524\n",
            "Epoch 17/50, Loss: 2.570, Acc: 14.286, Val. Loss: 2.554, Val. Acc: 9.524\n",
            "Epoch 18/50, Loss: 2.553, Acc: 14.286, Val. Loss: 2.554, Val. Acc: 9.524\n",
            "Epoch 19/50, Loss: 2.568, Acc: 14.286, Val. Loss: 2.553, Val. Acc: 9.524\n",
            "Epoch 20/50, Loss: 2.567, Acc: 7.143, Val. Loss: 2.553, Val. Acc: 9.524\n",
            "Epoch 21/50, Loss: 2.554, Acc: 7.143, Val. Loss: 2.552, Val. Acc: 9.524\n",
            "Epoch 22/50, Loss: 2.568, Acc: 0.000, Val. Loss: 2.552, Val. Acc: 9.524\n",
            "Epoch 23/50, Loss: 2.571, Acc: 7.143, Val. Loss: 2.551, Val. Acc: 9.524\n",
            "Epoch 24/50, Loss: 2.555, Acc: 7.143, Val. Loss: 2.551, Val. Acc: 9.524\n",
            "Epoch 25/50, Loss: 2.554, Acc: 7.143, Val. Loss: 2.550, Val. Acc: 9.524\n",
            "Epoch 26/50, Loss: 2.559, Acc: 14.286, Val. Loss: 2.550, Val. Acc: 9.524\n",
            "Epoch 27/50, Loss: 2.558, Acc: 14.286, Val. Loss: 2.549, Val. Acc: 9.524\n",
            "Epoch 28/50, Loss: 2.547, Acc: 7.143, Val. Loss: 2.549, Val. Acc: 9.524\n",
            "Epoch 29/50, Loss: 2.561, Acc: 0.000, Val. Loss: 2.548, Val. Acc: 9.524\n",
            "Epoch 30/50, Loss: 2.551, Acc: 14.286, Val. Loss: 2.548, Val. Acc: 9.524\n",
            "Epoch 31/50, Loss: 2.559, Acc: 7.143, Val. Loss: 2.547, Val. Acc: 9.524\n",
            "Epoch 32/50, Loss: 2.548, Acc: 7.143, Val. Loss: 2.547, Val. Acc: 9.524\n",
            "Epoch 33/50, Loss: 2.551, Acc: 7.143, Val. Loss: 2.546, Val. Acc: 9.524\n",
            "Epoch 34/50, Loss: 2.543, Acc: 28.571, Val. Loss: 2.546, Val. Acc: 9.524\n",
            "Epoch 35/50, Loss: 2.556, Acc: 7.143, Val. Loss: 2.545, Val. Acc: 9.524\n",
            "Epoch 36/50, Loss: 2.566, Acc: 0.000, Val. Loss: 2.544, Val. Acc: 9.524\n",
            "Epoch 37/50, Loss: 2.538, Acc: 7.143, Val. Loss: 2.544, Val. Acc: 9.524\n",
            "Epoch 38/50, Loss: 2.562, Acc: 0.000, Val. Loss: 2.543, Val. Acc: 14.286\n",
            "Epoch 39/50, Loss: 2.539, Acc: 7.143, Val. Loss: 2.543, Val. Acc: 14.286\n",
            "Epoch 40/50, Loss: 2.539, Acc: 0.000, Val. Loss: 2.542, Val. Acc: 14.286\n",
            "Epoch 41/50, Loss: 2.549, Acc: 7.143, Val. Loss: 2.541, Val. Acc: 14.286\n",
            "Epoch 42/50, Loss: 2.584, Acc: 7.143, Val. Loss: 2.541, Val. Acc: 14.286\n",
            "Epoch 43/50, Loss: 2.525, Acc: 42.857, Val. Loss: 2.540, Val. Acc: 14.286\n",
            "Epoch 44/50, Loss: 2.554, Acc: 7.143, Val. Loss: 2.540, Val. Acc: 14.286\n",
            "Epoch 45/50, Loss: 2.552, Acc: 7.143, Val. Loss: 2.539, Val. Acc: 14.286\n",
            "Epoch 46/50, Loss: 2.507, Acc: 42.857, Val. Loss: 2.538, Val. Acc: 14.286\n",
            "Epoch 47/50, Loss: 2.551, Acc: 0.000, Val. Loss: 2.538, Val. Acc: 14.286\n",
            "Epoch 48/50, Loss: 2.560, Acc: 7.143, Val. Loss: 2.537, Val. Acc: 14.286\n",
            "Epoch 49/50, Loss: 2.538, Acc: 14.286, Val. Loss: 2.537, Val. Acc: 14.286\n",
            "Epoch 50/50, Loss: 2.541, Acc: 7.143, Val. Loss: 2.536, Val. Acc: 14.286\n"
          ],
          "name": "stdout"
        },
        {
          "output_type": "display_data",
          "data": {
            "image/png": "[encoded data removed]",
            "text/plain": [
              "<Figure size 432x288 with 1 Axes>"
            ]
          },
          "metadata": {
            "tags": [],
            "needs_background": "light"
          }
        },
        {
          "output_type": "display_data",
          "data": {
            "image/png": "[encoded data removed]",
            "text/plain": [
              "<Figure size 432x288 with 1 Axes>"
            ]
          },
          "metadata": {
            "tags": [],
            "needs_background": "light"
          }
        }
      ]
    },
    {
      "cell_type": "code",
      "metadata": {
        "id": "S4VU9L1jCNCC",
        "colab": {
          "base_uri": "https://localhost:8080/",
          "height": 1000
        },
        "outputId": "b0a6969e-1e08-4204-f8c1-8f896cb54cea"
      },
      "source": [
        "# HINT: note that your training time should not take many days.\r\n",
        "\r\n",
        "# TODO:\r\n",
        "# Pick your hyper parameters\r\n",
        "max_epoch = 50\r\n",
        "train_batch = 64\r\n",
        "val_batch = 32\r\n",
        "test_batch = 1\r\n",
        "learning_rate = 0.0001\r\n",
        "\r\n",
        "#use_gpu = torch.cuda.is_available()\r\n",
        "\r\n",
        "# Get datasets\r\n",
        "train_dataset, test_dataset, val_dataset = get_dataset(\"/content/data\", 2)\r\n",
        "# Create train dataset loader\r\n",
        "train_dataset_loader = DataLoader(\r\n",
        "    dataset = train_dataset,\r\n",
        "    batch_size = train_batch,\r\n",
        "    shuffle=True,\r\n",
        "    num_workers = 4,\r\n",
        ")\r\n",
        "# Create validation dataset loader\r\n",
        "val_dataset_loader = DataLoader(\r\n",
        "    dataset = val_dataset,\r\n",
        "    batch_size = val_batch,\r\n",
        "    num_workers = 4,\r\n",
        ")\r\n",
        "# Create test dataset loader\r\n",
        "test_dataset_loader_cnn = DataLoader(\r\n",
        "    dataset = test_dataset,\r\n",
        "    batch_size = test_batch,\r\n",
        "    num_workers = 4,\r\n",
        ")\r\n",
        "# initialize your network\r\n",
        "model = ConvNet()\r\n",
        "\r\n",
        "# define your loss function\r\n",
        "criterion = nn.CrossEntropyLoss()\r\n",
        "\r\n",
        "optimizer = torch.optim.SGD(model.parameters(), lr=learning_rate, momentum=0, weight_decay=5e-04) # you can play with  weight_decay as well\r\n",
        "    \r\n",
        "train_loss = []\r\n",
        "train_accuracy = []\r\n",
        "\r\n",
        "val_loss = []\r\n",
        "val_accuracy = []\r\n",
        "\r\n",
        "min_loss = 100\r\n",
        "# start training\r\n",
        "# for each epoch calculate validation performance\r\n",
        "# save best model according to validation performance\r\n",
        "    \r\n",
        "for epoch in range(max_epoch):\r\n",
        "\r\n",
        "    train_epoch_loss = []\r\n",
        "    train_epoch_accuracy = []\r\n",
        "    \r\n",
        "    val_epoch_loss = []\r\n",
        "    val_epoch_accuracy = []\r\n",
        "\r\n",
        "    model=model.train()\r\n",
        "    for image, label in train_dataset_loader:\r\n",
        "\r\n",
        "        \r\n",
        "        optimizer.zero_grad()\r\n",
        "        # Forward\r\n",
        "        preds = model(image.permute(0,3,1,2))\r\n",
        "\r\n",
        "        # Accuracy\r\n",
        "        probs = torch.softmax(preds, dim=1)\r\n",
        "        winners = probs.argmax(dim=1)\r\n",
        "        corrects = (winners == label)\r\n",
        "        accuracy = corrects.sum().float() / float( label.size(0) )\r\n",
        "        acc = (torch.softmax(preds, dim=1).argmax(dim=1) == label).sum().float() * 100 / float( label.size(0))\r\n",
        "        # Loss\r\n",
        "        #Calculate Loss & Backward, Update Weights (Step)\r\n",
        "        loss = criterion(preds, label)\r\n",
        "        loss.backward()\r\n",
        "        optimizer.step()\r\n",
        "\r\n",
        "        #Append loss & acc\r\n",
        "        loss_value = loss.item()\r\n",
        "        train_epoch_loss.append(loss_value)\r\n",
        "        train_epoch_accuracy.append(acc)\r\n",
        "\r\n",
        "    \r\n",
        "    \r\n",
        "    model = model.eval()\r\n",
        "    for image, label in val_dataset_loader:\r\n",
        "        with torch.no_grad():\r\n",
        "            # Forward\r\n",
        "            preds = model(image.permute(0,3,1,2))\r\n",
        "\r\n",
        "            # Accuracy\r\n",
        "            probs = torch.softmax(preds, dim=1)\r\n",
        "            winners = probs.argmax(dim=1)\r\n",
        "            corrects = (winners == label)\r\n",
        "            accuracy = corrects.sum().float() / float( label.size(0) )\r\n",
        "            acc = (torch.softmax(preds, dim=1).argmax(dim=1) == label).sum().float() * 100 / float( label.size(0))\r\n",
        "\r\n",
        "            # Loss\r\n",
        "            loss = criterion(preds, label)\r\n",
        "            #Append loss & acc\r\n",
        "            loss_value = loss.item()\r\n",
        "            val_epoch_loss.append(loss_value)\r\n",
        "            val_epoch_accuracy.append(acc)\r\n",
        "\r\n",
        "            if loss_value < min_loss:\r\n",
        "                min_loss = loss_value\r\n",
        "                torch.save(model, \"/content/drive/MyDrive/Colab Notebooks/best_cnn_sgd.pth\")\r\n",
        "\r\n",
        "    print(\"Epoch {}/{}, Loss: {:.3f}, Acc: {:.3f}, Val. Loss: {:.3f}, Val. Acc: {:.3f}\".format(\r\n",
        "        epoch+1,max_epoch, \r\n",
        "        train_epoch_loss[-1], \r\n",
        "        train_epoch_accuracy[-1],\r\n",
        "        val_epoch_loss[-1],\r\n",
        "        val_epoch_accuracy[-1]))\r\n",
        "\r\n",
        "\r\n",
        "    train_epoch_loss = np.mean(train_epoch_loss)\r\n",
        "    train_epoch_accuracy = np.mean(train_epoch_accuracy)\r\n",
        "    \r\n",
        "    val_epoch_loss = np.mean(val_epoch_loss)\r\n",
        "    val_epoch_accuracy = np.mean(val_epoch_accuracy)\r\n",
        "    \r\n",
        "    train_loss.append(train_epoch_loss)\r\n",
        "    train_accuracy.append(train_epoch_accuracy)\r\n",
        "    \r\n",
        "    val_loss.append(val_epoch_loss)\r\n",
        "    val_accuracy.append(val_epoch_accuracy)\r\n",
        "\r\n",
        "\r\n",
        "# plot losses vs epoch \r\n",
        "epochs = range(0, max_epoch)\r\n",
        "plt.plot(epochs, train_loss, 'g', label=\"Training Loss\")\r\n",
        "plt.plot(epochs, val_loss, 'r', label=\"Validation Loss\")\r\n",
        "plt.title(\"Loss vs Epoch\")\r\n",
        "plt.xlabel(\"Epoch\")\r\n",
        "plt.ylabel(\"Loss\")\r\n",
        "plt.legend()\r\n",
        "plt.show()\r\n",
        "\r\n",
        "# plot accuracies vs epoch\r\n",
        "plt.plot(epochs, train_accuracy, 'g', label=\"Training Accuracy\")\r\n",
        "plt.plot(epochs, val_accuracy, 'r', label=\"Validation Accuracy\")\r\n",
        "plt.title(\"Accuracy vs Epoch\")\r\n",
        "plt.xlabel(\"Epoch\")\r\n",
        "plt.ylabel(\"Accuracy\")\r\n",
        "plt.legend()\r\n",
        "plt.show()\r\n"
      ],
      "execution_count": 7,
      "outputs": [
        {
          "output_type": "stream",
          "text": [
            "/usr/local/lib/python3.6/dist-packages/ipykernel_launcher.py:25: UserWarning: Implicit dimension choice for log_softmax has been deprecated. Change the call to include dim=X as an argument.\n"
          ],
          "name": "stderr"
        },
        {
          "output_type": "stream",
          "text": [
            "Epoch 1/50, Loss: 2.669, Acc: 7.143, Val. Loss: 2.794, Val. Acc: 0.000\n",
            "Epoch 2/50, Loss: 2.630, Acc: 14.286, Val. Loss: 2.655, Val. Acc: 4.762\n",
            "Epoch 3/50, Loss: 2.576, Acc: 14.286, Val. Loss: 2.635, Val. Acc: 0.000\n",
            "Epoch 4/50, Loss: 2.557, Acc: 14.286, Val. Loss: 2.600, Val. Acc: 4.762\n",
            "Epoch 5/50, Loss: 2.590, Acc: 14.286, Val. Loss: 2.575, Val. Acc: 4.762\n",
            "Epoch 6/50, Loss: 2.477, Acc: 21.429, Val. Loss: 2.540, Val. Acc: 4.762\n",
            "Epoch 7/50, Loss: 2.577, Acc: 21.429, Val. Loss: 2.530, Val. Acc: 9.524\n",
            "Epoch 8/50, Loss: 2.449, Acc: 28.571, Val. Loss: 2.501, Val. Acc: 19.048\n",
            "Epoch 9/50, Loss: 2.379, Acc: 28.571, Val. Loss: 2.449, Val. Acc: 19.048\n",
            "Epoch 10/50, Loss: 2.348, Acc: 21.429, Val. Loss: 2.451, Val. Acc: 9.524\n",
            "Epoch 11/50, Loss: 2.468, Acc: 7.143, Val. Loss: 2.434, Val. Acc: 9.524\n",
            "Epoch 12/50, Loss: 2.674, Acc: 0.000, Val. Loss: 2.442, Val. Acc: 9.524\n",
            "Epoch 13/50, Loss: 2.574, Acc: 14.286, Val. Loss: 2.408, Val. Acc: 9.524\n",
            "Epoch 14/50, Loss: 2.292, Acc: 21.429, Val. Loss: 2.405, Val. Acc: 14.286\n",
            "Epoch 15/50, Loss: 2.460, Acc: 21.429, Val. Loss: 2.419, Val. Acc: 9.524\n",
            "Epoch 16/50, Loss: 2.561, Acc: 0.000, Val. Loss: 2.363, Val. Acc: 9.524\n",
            "Epoch 17/50, Loss: 2.477, Acc: 28.571, Val. Loss: 2.385, Val. Acc: 4.762\n",
            "Epoch 18/50, Loss: 2.219, Acc: 35.714, Val. Loss: 2.377, Val. Acc: 4.762\n",
            "Epoch 19/50, Loss: 2.405, Acc: 7.143, Val. Loss: 2.350, Val. Acc: 14.286\n",
            "Epoch 20/50, Loss: 2.428, Acc: 7.143, Val. Loss: 2.361, Val. Acc: 14.286\n",
            "Epoch 21/50, Loss: 2.294, Acc: 28.571, Val. Loss: 2.357, Val. Acc: 19.048\n",
            "Epoch 22/50, Loss: 2.512, Acc: 7.143, Val. Loss: 2.326, Val. Acc: 14.286\n",
            "Epoch 23/50, Loss: 2.562, Acc: 21.429, Val. Loss: 2.335, Val. Acc: 9.524\n",
            "Epoch 24/50, Loss: 2.456, Acc: 21.429, Val. Loss: 2.354, Val. Acc: 14.286\n",
            "Epoch 25/50, Loss: 2.259, Acc: 21.429, Val. Loss: 2.359, Val. Acc: 4.762\n",
            "Epoch 26/50, Loss: 2.579, Acc: 7.143, Val. Loss: 2.338, Val. Acc: 4.762\n",
            "Epoch 27/50, Loss: 2.583, Acc: 14.286, Val. Loss: 2.292, Val. Acc: 9.524\n",
            "Epoch 28/50, Loss: 2.708, Acc: 7.143, Val. Loss: 2.306, Val. Acc: 14.286\n",
            "Epoch 29/50, Loss: 2.292, Acc: 21.429, Val. Loss: 2.275, Val. Acc: 14.286\n",
            "Epoch 30/50, Loss: 2.033, Acc: 28.571, Val. Loss: 2.316, Val. Acc: 9.524\n",
            "Epoch 31/50, Loss: 2.501, Acc: 0.000, Val. Loss: 2.302, Val. Acc: 4.762\n",
            "Epoch 32/50, Loss: 2.609, Acc: 21.429, Val. Loss: 2.279, Val. Acc: 19.048\n",
            "Epoch 33/50, Loss: 2.251, Acc: 21.429, Val. Loss: 2.312, Val. Acc: 9.524\n",
            "Epoch 34/50, Loss: 2.433, Acc: 14.286, Val. Loss: 2.264, Val. Acc: 14.286\n",
            "Epoch 35/50, Loss: 2.298, Acc: 7.143, Val. Loss: 2.255, Val. Acc: 14.286\n",
            "Epoch 36/50, Loss: 2.639, Acc: 21.429, Val. Loss: 2.250, Val. Acc: 23.810\n",
            "Epoch 37/50, Loss: 2.237, Acc: 14.286, Val. Loss: 2.282, Val. Acc: 14.286\n",
            "Epoch 38/50, Loss: 2.287, Acc: 14.286, Val. Loss: 2.263, Val. Acc: 14.286\n",
            "Epoch 39/50, Loss: 2.551, Acc: 0.000, Val. Loss: 2.245, Val. Acc: 14.286\n",
            "Epoch 40/50, Loss: 2.131, Acc: 28.571, Val. Loss: 2.224, Val. Acc: 19.048\n",
            "Epoch 41/50, Loss: 2.362, Acc: 14.286, Val. Loss: 2.292, Val. Acc: 4.762\n",
            "Epoch 42/50, Loss: 2.354, Acc: 14.286, Val. Loss: 2.329, Val. Acc: 14.286\n",
            "Epoch 43/50, Loss: 2.167, Acc: 21.429, Val. Loss: 2.262, Val. Acc: 9.524\n",
            "Epoch 44/50, Loss: 2.485, Acc: 7.143, Val. Loss: 2.337, Val. Acc: 14.286\n",
            "Epoch 45/50, Loss: 2.268, Acc: 7.143, Val. Loss: 2.263, Val. Acc: 14.286\n",
            "Epoch 46/50, Loss: 2.249, Acc: 21.429, Val. Loss: 2.304, Val. Acc: 4.762\n",
            "Epoch 47/50, Loss: 2.337, Acc: 14.286, Val. Loss: 2.272, Val. Acc: 14.286\n",
            "Epoch 48/50, Loss: 2.778, Acc: 14.286, Val. Loss: 2.264, Val. Acc: 9.524\n",
            "Epoch 49/50, Loss: 2.255, Acc: 28.571, Val. Loss: 2.242, Val. Acc: 9.524\n",
            "Epoch 50/50, Loss: 2.531, Acc: 14.286, Val. Loss: 2.233, Val. Acc: 14.286\n"
          ],
          "name": "stdout"
        },
        {
          "output_type": "display_data",
          "data": {
            "image/png": "[encoded data removed]",
            "text/plain": [
              "<Figure size 432x288 with 1 Axes>"
            ]
          },
          "metadata": {
            "tags": [],
            "needs_background": "light"
          }
        },
        {
          "output_type": "display_data",
          "data": {
            "image/png": "[encoded data removed]",
            "text/plain": [
              "<Figure size 432x288 with 1 Axes>"
            ]
          },
          "metadata": {
            "tags": [],
            "needs_background": "light"
          }
        }
      ]
    },
    {
      "cell_type": "markdown",
      "metadata": {
        "id": "bGlkTe9e-VLO"
      },
      "source": [
        "####Test with SGD [15 pts.]\r\n",
        "\r\n",
        "Report the following for your best model on your test set which has not been seen by the model yet.\r\n",
        "1. A heatmap for confusion matrix\r\n",
        "2. Accuracy\r\n",
        "3. Macro Precision\r\n",
        "4. Macro Recall\r\n",
        "5. F1 Score\r\n",
        "\r\n",
        "Then, discuss figures that you have plotted in the previous section, your test results and algorithm complexity with maximum 200 words. Compare two **models**. Which one is more preferable? Why?"
      ]
    },
    {
      "cell_type": "markdown",
      "metadata": {
        "id": "k7CndE_QviZV"
      },
      "source": [
        "--> According to the accuracy and loss plots, CNN with SGD model is better compared to MLP with SGD model because when they are trained with same epoch size and hyperparameters, it can be seen that CNN model gives better accuracy and lower loss value therefore it is more preferable. \r\n",
        "\r\n",
        "In the test part however, MLP has better metric outcomes except loss. But generally models are compared based on the losses and in can be again decided that CNN gives better results. \r\n",
        "\r\n",
        "Another reason for choosing CNN is that it uses information sharing between layers. But CNN has a downside which is its algorithm complexity. In CNN we deal with images with 3 channels that are not flattened. Therefore it works slowly. "
      ]
    },
    {
      "cell_type": "code",
      "metadata": {
        "id": "ZuMo7CbnCP50",
        "colab": {
          "base_uri": "https://localhost:8080/",
          "height": 468
        },
        "outputId": "9ed01fbb-2362-45be-9404-f708b8258371"
      },
      "source": [
        "# Test MLP\r\n",
        "# load best model\r\n",
        "best_path = \"/content/drive/MyDrive/Colab Notebooks/best_mlp_sgd.pth\"\r\n",
        "model = torch.load(best_path)\r\n",
        "\r\n",
        "# define your loss function\r\n",
        "criterion = nn.CrossEntropyLoss()\r\n",
        "\r\n",
        "predss = []\r\n",
        "labels = []\r\n",
        "# evaluate on test set\r\n",
        "model = model.eval()\r\n",
        "with torch.no_grad():\r\n",
        "    for image, label in test_dataset_loader_mlp:\r\n",
        "        # Forward\r\n",
        "        out = model(image)\r\n",
        "        # Loss\r\n",
        "        loss = criterion(out, label)\r\n",
        "        losses = loss.item()\r\n",
        "\r\n",
        "        # Metrics\r\n",
        "        probs = torch.softmax(out, dim=1)\r\n",
        "\r\n",
        "        label = label.detach().numpy()[0]\r\n",
        "        preds = probs.detach().numpy()[0]\r\n",
        "\r\n",
        "        labels.append(label)\r\n",
        "        predss.append((np.where(preds == np.max(preds))[0] + 1)[0])\r\n",
        "\r\n",
        "    acc = accuracy_score(labels, predss)\r\n",
        "    conf_matrix = confusion_matrix(labels, predss)\r\n",
        "    pre = precision_score(labels, predss, average='macro')\r\n",
        "    recall = recall_score(labels, predss, average='macro')\r\n",
        "    f1 = f1_score(labels, predss, average='macro')\r\n",
        "\r\n",
        "# print metrics\r\n",
        "print(\"Mean Loss:\", losses, \"\\nMean Acc:\", acc,\"\\nMean Macro Precision:\", pre, \"\\nMean Macro Recall:\", recall, \"\\nMean Macro F1 Score:\", f1) \r\n",
        "\r\n",
        "# plot confusion matrix\r\n",
        "fig, ax = plt.subplots()\r\n",
        "im = ax.imshow(conf_matrix)\r\n",
        "# We want to show all ticks...\r\n",
        "ax.set_xticks(np.arange(15))\r\n",
        "ax.set_yticks(np.arange(15))\r\n",
        "\r\n",
        "fig.tight_layout()\r\n",
        "plt.show()"
      ],
      "execution_count": 8,
      "outputs": [
        {
          "output_type": "stream",
          "text": [
            "Mean Loss: 2.530548572540283 \n",
            "Mean Acc: 0.07748776508972267 \n",
            "Mean Macro Precision: 0.0815056144377286 \n",
            "Mean Macro Recall: 0.07406144017619525 \n",
            "Mean Macro F1 Score: 0.05106838391767708\n"
          ],
          "name": "stdout"
        },
        {
          "output_type": "stream",
          "text": [
            "/usr/local/lib/python3.6/dist-packages/sklearn/metrics/_classification.py:1272: UndefinedMetricWarning: Precision is ill-defined and being set to 0.0 in labels with no predicted samples. Use `zero_division` parameter to control this behavior.\n",
            "  _warn_prf(average, modifier, msg_start, len(result))\n",
            "/usr/local/lib/python3.6/dist-packages/sklearn/metrics/_classification.py:1272: UndefinedMetricWarning: Recall is ill-defined and being set to 0.0 in labels with no true samples. Use `zero_division` parameter to control this behavior.\n",
            "  _warn_prf(average, modifier, msg_start, len(result))\n"
          ],
          "name": "stderr"
        },
        {
          "output_type": "display_data",
          "data": {
            "image/png": "[encoded data removed]",
            "text/plain": [
              "<Figure size 432x288 with 1 Axes>"
            ]
          },
          "metadata": {
            "tags": [],
            "needs_background": "light"
          }
        }
      ]
    },
    {
      "cell_type": "code",
      "metadata": {
        "id": "LNc_qjAECN9V",
        "colab": {
          "base_uri": "https://localhost:8080/",
          "height": 485
        },
        "outputId": "8a325ed1-86cb-4f6f-b92c-88c2665936d9"
      },
      "source": [
        "# Test CNN\r\n",
        "# load best model\r\n",
        "best_path = \"/content/drive/MyDrive/Colab Notebooks/best_cnn_sgd.pth\"\r\n",
        "model = torch.load(best_path)\r\n",
        "\r\n",
        "# define your loss function\r\n",
        "criterion = nn.CrossEntropyLoss()\r\n",
        "\r\n",
        "predss = []\r\n",
        "labels = []\r\n",
        "# evaluate on test set\r\n",
        "model = model.eval()\r\n",
        "with torch.no_grad():\r\n",
        "    for image, label in test_dataset_loader_cnn:\r\n",
        "        # Forward\r\n",
        "        out = model(image.permute(0,3,1,2))\r\n",
        "        # Loss\r\n",
        "        loss = criterion(out, label)\r\n",
        "        losses = loss.item()\r\n",
        "\r\n",
        "        # Metrics\r\n",
        "        probs = torch.softmax(out, dim=1)\r\n",
        "\r\n",
        "        label = label.detach().numpy()[0]\r\n",
        "        preds = probs.detach().numpy()[0]\r\n",
        "\r\n",
        "        labels.append(label)\r\n",
        "        predss.append((np.where(preds == np.max(preds))[0] + 1)[0])\r\n",
        "\r\n",
        "    acc = accuracy_score(labels, predss)\r\n",
        "    conf_matrix = confusion_matrix(labels, predss)\r\n",
        "    pre = precision_score(labels, predss, average='macro')\r\n",
        "    recall = recall_score(labels, predss, average='macro')\r\n",
        "    f1 = f1_score(labels, predss, average='macro')\r\n",
        "\r\n",
        "# print metrics\r\n",
        "print(\"Mean Loss:\", losses, \"\\nMean Acc:\", acc,\"\\nMean Macro Precision:\", pre, \"\\nMean Macro Recall:\", recall, \"\\nMean Macro F1 Score:\", f1) \r\n",
        "\r\n",
        "# plot confusion matrix\r\n",
        "fig, ax = plt.subplots()\r\n",
        "im = ax.imshow(conf_matrix)\r\n",
        "# We want to show all ticks...\r\n",
        "ax.set_xticks(np.arange(15))\r\n",
        "ax.set_yticks(np.arange(15))\r\n",
        "\r\n",
        "fig.tight_layout()\r\n",
        "plt.show()"
      ],
      "execution_count": 9,
      "outputs": [
        {
          "output_type": "stream",
          "text": [
            "/usr/local/lib/python3.6/dist-packages/ipykernel_launcher.py:25: UserWarning: Implicit dimension choice for log_softmax has been deprecated. Change the call to include dim=X as an argument.\n"
          ],
          "name": "stderr"
        },
        {
          "output_type": "stream",
          "text": [
            "Mean Loss: 1.4236265420913696 \n",
            "Mean Acc: 0.058523654159869494 \n",
            "Mean Macro Precision: 0.05885539765385217 \n",
            "Mean Macro Recall: 0.054779618178457494 \n",
            "Mean Macro F1 Score: 0.053909502170537096\n"
          ],
          "name": "stdout"
        },
        {
          "output_type": "stream",
          "text": [
            "/usr/local/lib/python3.6/dist-packages/sklearn/metrics/_classification.py:1272: UndefinedMetricWarning: Precision is ill-defined and being set to 0.0 in labels with no predicted samples. Use `zero_division` parameter to control this behavior.\n",
            "  _warn_prf(average, modifier, msg_start, len(result))\n",
            "/usr/local/lib/python3.6/dist-packages/sklearn/metrics/_classification.py:1272: UndefinedMetricWarning: Recall is ill-defined and being set to 0.0 in labels with no true samples. Use `zero_division` parameter to control this behavior.\n",
            "  _warn_prf(average, modifier, msg_start, len(result))\n"
          ],
          "name": "stderr"
        },
        {
          "output_type": "display_data",
          "data": {
            "image/png": "[encoded data removed]",
            "text/plain": [
              "<Figure size 432x288 with 1 Axes>"
            ]
          },
          "metadata": {
            "tags": [],
            "needs_background": "light"
          }
        }
      ]
    },
    {
      "cell_type": "markdown",
      "metadata": {
        "id": "N3L2zjEN_tZf"
      },
      "source": [
        "###Adam Optimizer [35 pts.]\r\n",
        "\r\n",
        "Adam is an adaptive learning rate optimization algorithm that has been designed specifically for training deep neural networks. It was presented by Diederik Kingma from OpenAI and Jimmy Ba from the University of Toronto in their 2015 ICLR paper (poster) titled “Adam: A Method for Stochastic Optimization“.\r\n",
        "\r\n",
        "Nowadays, most of machine learning frameworks, including tensorflow, Pytorch, and Keras, choose Adam as the default optimizer. In this question, you will experiment with it and try to understand why it replaced SGD as the default optimizer."
      ]
    },
    {
      "cell_type": "markdown",
      "metadata": {
        "id": "jOQ75RHP-Fdn"
      },
      "source": [
        "####Training with ADAM [20 pts.]\r\n",
        "\r\n",
        "Train both models up to 700 epochs with properly processed inputs, i.e. call your \"get_dataset\" function in mode \"1\" for MLP and mode \"2\" for CNN. This time use Adam Optimizer as your optimizer. Tune your learning rate, weight decay. Save your best models, i.e. MLP and CNN models with highest performance, as \"best_mlp_adam.pth\" and \"best_cnn_adam.pth\". The best model decision is up to you. You could use any measurement and/or metric to decide on the best model for each network. However, you must explain your reasoning in your choice.\r\n",
        "\r\n",
        "During training, you need to plot two figures for each model:\r\n",
        "1. training loss and validation loss vs. epoch\r\n",
        "2. validation acuracy and validation accuracy vs. epoch <br>\r\n",
        "\r\n",
        "Name your axes and plots properly."
      ]
    },
    {
      "cell_type": "markdown",
      "metadata": {
        "id": "S5HRW8MXw8Dv"
      },
      "source": [
        "--> As explanied before with reasons, I choosed validation loss metric to decide on the best model."
      ]
    },
    {
      "cell_type": "code",
      "metadata": {
        "id": "ZseK2xlrCPLb",
        "colab": {
          "base_uri": "https://localhost:8080/",
          "height": 741
        },
        "outputId": "0e059d53-1f04-48df-a2a2-7681a8eb033d"
      },
      "source": [
        "# Pick your hyper parameters\r\n",
        "max_epoch = 10\r\n",
        "train_batch = 64\r\n",
        "val_batch = 32\r\n",
        "test_batch = 1\r\n",
        "learning_rate = 0.0001\r\n",
        "\r\n",
        "#use_gpu = torch.cuda.is_available()\r\n",
        "\r\n",
        "# Get datasets\r\n",
        "train_dataset, test_dataset, val_dataset = get_dataset(\"/content/data\", 1)\r\n",
        "# Create train dataset loader\r\n",
        "train_dataset_loader = DataLoader(\r\n",
        "    dataset = train_dataset,\r\n",
        "    batch_size = train_batch,\r\n",
        "    shuffle=True,\r\n",
        "    num_workers = 4,\r\n",
        ")\r\n",
        "# Create validation dataset loader\r\n",
        "val_dataset_loader = DataLoader(\r\n",
        "    dataset = val_dataset,\r\n",
        "    batch_size = val_batch,\r\n",
        "    num_workers = 4,\r\n",
        ")\r\n",
        "# Create test dataset loader\r\n",
        "test_dataset_loader_mlp = DataLoader(\r\n",
        "    dataset = test_dataset,\r\n",
        "    batch_size = test_batch,\r\n",
        "    num_workers = 4,\r\n",
        ")\r\n",
        "# initialize your network\r\n",
        "model = FNet() \r\n",
        "\r\n",
        "# define your loss function\r\n",
        "criterion = nn.CrossEntropyLoss()\r\n",
        "\r\n",
        "optimizer = torch.optim.Adam(model.parameters(), lr=learning_rate, weight_decay=5e-04) # you can play with  weight_decay as well\r\n",
        "\r\n",
        "train_loss = []\r\n",
        "train_accuracy = []\r\n",
        "\r\n",
        "val_loss = []\r\n",
        "val_accuracy = []\r\n",
        "\r\n",
        "min_loss = 100\r\n",
        "# start training\r\n",
        "# for each epoch calculate validation performance\r\n",
        "# save best model according to validation performance\r\n",
        "    \r\n",
        "for epoch in range(max_epoch):\r\n",
        "\r\n",
        "    train_epoch_loss = []\r\n",
        "    train_epoch_accuracy = []\r\n",
        "    \r\n",
        "    val_epoch_loss = []\r\n",
        "    val_epoch_accuracy = []\r\n",
        "\r\n",
        "    model=model.train()\r\n",
        "    for image, label in train_dataset_loader:\r\n",
        "        optimizer.zero_grad()\r\n",
        "        # Forward\r\n",
        "        preds = model(image)\r\n",
        "\r\n",
        "        # Accuracy\r\n",
        "        probs = torch.softmax(preds, dim=1)\r\n",
        "        winners = probs.argmax(dim=1)\r\n",
        "        corrects = (winners == label)\r\n",
        "        accuracy = corrects.sum().float() / float( label.size(0) )\r\n",
        "        acc = (torch.softmax(preds, dim=1).argmax(dim=1) == label).sum().float() * 100 / float( label.size(0))\r\n",
        "\r\n",
        "        # Loss\r\n",
        "        #Calculate Loss & Backward, Update Weights (Step)\r\n",
        "        loss = criterion(preds, label)\r\n",
        "        loss.backward()\r\n",
        "        optimizer.step()\r\n",
        "\r\n",
        "        #Append loss & acc\r\n",
        "        loss_value = loss.item()\r\n",
        "        train_epoch_loss.append(loss_value)\r\n",
        "        train_epoch_accuracy.append(acc)\r\n",
        "\r\n",
        "    \r\n",
        "    \r\n",
        "    model = model.eval()\r\n",
        "    for image, label in val_dataset_loader:\r\n",
        "        with torch.no_grad():\r\n",
        "            # Forward\r\n",
        "            preds = model(image)\r\n",
        "\r\n",
        "            # Accuracy\r\n",
        "            probs = torch.softmax(preds, dim=1)\r\n",
        "            winners = probs.argmax(dim=1)\r\n",
        "            corrects = (winners == label)\r\n",
        "            accuracy = corrects.sum().float() / float( label.size(0) )\r\n",
        "            acc = (torch.softmax(preds, dim=1).argmax(dim=1) == label).sum().float() * 100 / float( label.size(0))\r\n",
        "\r\n",
        "            # Loss\r\n",
        "            loss = criterion(preds, label)\r\n",
        "            #Append loss & acc\r\n",
        "            loss_value = loss.item()\r\n",
        "            val_epoch_loss.append(loss_value)\r\n",
        "            val_epoch_accuracy.append(acc)\r\n",
        "\r\n",
        "            if loss_value < min_loss:\r\n",
        "                min_loss = loss_value\r\n",
        "                torch.save(model, \"/content/drive/MyDrive/Colab Notebooks/best_mlp_adam.pth\")\r\n",
        "\r\n",
        "    print(\"Epoch {}/{}, Loss: {:.3f}, Acc: {:.3f}, Val. Loss: {:.3f}, Val. Acc: {:.3f}\".format(\r\n",
        "        epoch+1,max_epoch, \r\n",
        "        train_epoch_loss[-1], \r\n",
        "        train_epoch_accuracy[-1],\r\n",
        "        val_epoch_loss[-1],\r\n",
        "        val_epoch_accuracy[-1]))\r\n",
        "\r\n",
        "\r\n",
        "    train_epoch_loss = np.mean(train_epoch_loss)\r\n",
        "    train_epoch_accuracy = np.mean(train_epoch_accuracy)\r\n",
        "    \r\n",
        "    val_epoch_loss = np.mean(val_epoch_loss)\r\n",
        "    val_epoch_accuracy = np.mean(val_epoch_accuracy)\r\n",
        "    \r\n",
        "    train_loss.append(train_epoch_loss)\r\n",
        "    train_accuracy.append(train_epoch_accuracy)\r\n",
        "    \r\n",
        "    val_loss.append(val_epoch_loss)\r\n",
        "    val_accuracy.append(val_epoch_accuracy)\r\n",
        "\r\n",
        "\r\n",
        "# plot losses vs epoch \r\n",
        "epochs = range(0, max_epoch)\r\n",
        "plt.plot(epochs, train_loss, 'g', label=\"Training Loss\")\r\n",
        "plt.plot(epochs, val_loss, 'r', label=\"Validation Loss\")\r\n",
        "plt.title(\"Loss vs Epoch\")\r\n",
        "plt.xlabel(\"Epoch\")\r\n",
        "plt.ylabel(\"Loss\")\r\n",
        "plt.legend()\r\n",
        "plt.show()\r\n",
        "\r\n",
        "# plot accuracies vs epoch\r\n",
        "plt.plot(epochs, train_accuracy, 'g', label=\"Training Accuracy\")\r\n",
        "plt.plot(epochs, val_accuracy, 'r', label=\"Validation Accuracy\")\r\n",
        "plt.title(\"Accuracy vs Epoch\")\r\n",
        "plt.xlabel(\"Epoch\")\r\n",
        "plt.ylabel(\"Accuracy\")\r\n",
        "plt.legend()\r\n",
        "plt.show()\r\n"
      ],
      "execution_count": 11,
      "outputs": [
        {
          "output_type": "stream",
          "text": [
            "Epoch 1/10, Loss: 2.624, Acc: 7.143, Val. Loss: 2.438, Val. Acc: 14.286\n",
            "Epoch 2/10, Loss: 2.539, Acc: 7.143, Val. Loss: 2.437, Val. Acc: 9.524\n",
            "Epoch 3/10, Loss: 2.657, Acc: 14.286, Val. Loss: 2.378, Val. Acc: 28.571\n",
            "Epoch 4/10, Loss: 2.498, Acc: 21.429, Val. Loss: 2.437, Val. Acc: 14.286\n",
            "Epoch 5/10, Loss: 2.196, Acc: 28.571, Val. Loss: 2.494, Val. Acc: 4.762\n",
            "Epoch 6/10, Loss: 2.531, Acc: 14.286, Val. Loss: 2.441, Val. Acc: 9.524\n",
            "Epoch 7/10, Loss: 2.441, Acc: 14.286, Val. Loss: 2.378, Val. Acc: 19.048\n",
            "Epoch 8/10, Loss: 2.507, Acc: 14.286, Val. Loss: 2.431, Val. Acc: 9.524\n",
            "Epoch 9/10, Loss: 2.075, Acc: 14.286, Val. Loss: 2.376, Val. Acc: 9.524\n",
            "Epoch 10/10, Loss: 2.328, Acc: 35.714, Val. Loss: 2.371, Val. Acc: 9.524\n"
          ],
          "name": "stdout"
        },
        {
          "output_type": "display_data",
          "data": {
            "image/png": "[encoded data removed]",
            "text/plain": [
              "<Figure size 432x288 with 1 Axes>"
            ]
          },
          "metadata": {
            "tags": [],
            "needs_background": "light"
          }
        },
        {
          "output_type": "display_data",
          "data": {
            "image/png": "[encoded data removed]",
            "text/plain": [
              "<Figure size 432x288 with 1 Axes>"
            ]
          },
          "metadata": {
            "tags": [],
            "needs_background": "light"
          }
        }
      ]
    },
    {
      "cell_type": "code",
      "metadata": {
        "id": "3fr4WUpQCO5s",
        "colab": {
          "base_uri": "https://localhost:8080/",
          "height": 778
        },
        "outputId": "8d56fd94-f4ac-4a01-bc96-fa742051eb81"
      },
      "source": [
        "# HINT: note that your training time should not take many days.\r\n",
        "\r\n",
        "# TODO:\r\n",
        "# Pick your hyper parameters\r\n",
        "max_epoch = 10\r\n",
        "train_batch = 64\r\n",
        "val_batch = 32\r\n",
        "test_batch = 1\r\n",
        "learning_rate = 0.0001\r\n",
        "\r\n",
        "#use_gpu = torch.cuda.is_available()\r\n",
        "\r\n",
        "# Get datasets\r\n",
        "train_dataset, test_dataset, val_dataset = get_dataset(\"/content/data\", 2)\r\n",
        "# Create train dataset loader\r\n",
        "train_dataset_loader = DataLoader(\r\n",
        "    dataset = train_dataset,\r\n",
        "    batch_size = train_batch,\r\n",
        "    shuffle=True,\r\n",
        "    num_workers = 4,\r\n",
        ")\r\n",
        "# Create validation dataset loader\r\n",
        "val_dataset_loader = DataLoader(\r\n",
        "    dataset = val_dataset,\r\n",
        "    batch_size = val_batch,\r\n",
        "    num_workers = 4,\r\n",
        ")\r\n",
        "# Create test dataset loader\r\n",
        "test_dataset_loader_cnn = DataLoader(\r\n",
        "    dataset = test_dataset,\r\n",
        "    batch_size = test_batch,\r\n",
        "    num_workers = 4,\r\n",
        ")\r\n",
        "# initialize your network\r\n",
        "model = ConvNet()\r\n",
        "\r\n",
        "# define your loss function\r\n",
        "criterion = nn.CrossEntropyLoss()\r\n",
        "\r\n",
        "optimizer = torch.optim.Adam(model.parameters(), lr=learning_rate, weight_decay=5e-04) # you can play with  weight_decay as well\r\n",
        "    \r\n",
        "train_loss = []\r\n",
        "train_accuracy = []\r\n",
        "\r\n",
        "val_loss = []\r\n",
        "val_accuracy = []\r\n",
        "\r\n",
        "min_loss = 100\r\n",
        "# start training\r\n",
        "# for each epoch calculate validation performance\r\n",
        "# save best model according to validation performance\r\n",
        "    \r\n",
        "for epoch in range(max_epoch):\r\n",
        "\r\n",
        "    train_epoch_loss = []\r\n",
        "    train_epoch_accuracy = []\r\n",
        "    \r\n",
        "    val_epoch_loss = []\r\n",
        "    val_epoch_accuracy = []\r\n",
        "\r\n",
        "    model=model.train()\r\n",
        "    for image, label in train_dataset_loader:\r\n",
        "\r\n",
        "        \r\n",
        "        optimizer.zero_grad()\r\n",
        "        # Forward\r\n",
        "        preds = model(image.permute(0,3,1,2))\r\n",
        "\r\n",
        "        # Accuracy\r\n",
        "        probs = torch.softmax(preds, dim=1)\r\n",
        "        winners = probs.argmax(dim=1)\r\n",
        "        corrects = (winners == label)\r\n",
        "        accuracy = corrects.sum().float() / float( label.size(0) )\r\n",
        "        acc = (torch.softmax(preds, dim=1).argmax(dim=1) == label).sum().float() * 100 / float( label.size(0))\r\n",
        "\r\n",
        "        # Loss\r\n",
        "        #Calculate Loss & Backward, Update Weights (Step)\r\n",
        "        loss = criterion(preds, label)\r\n",
        "        loss.backward()\r\n",
        "        optimizer.step()\r\n",
        "\r\n",
        "        #Append loss & acc\r\n",
        "        loss_value = loss.item()\r\n",
        "        train_epoch_loss.append(loss_value)\r\n",
        "        train_epoch_accuracy.append(acc)\r\n",
        "\r\n",
        "    model = model.eval()\r\n",
        "    for image, label in val_dataset_loader:\r\n",
        "        with torch.no_grad():\r\n",
        "            # Forward\r\n",
        "            preds = model(image.permute(0,3,1,2))\r\n",
        "\r\n",
        "            # Accuracy\r\n",
        "            probs = torch.softmax(preds, dim=1)\r\n",
        "            winners = probs.argmax(dim=1)\r\n",
        "            corrects = (winners == label)\r\n",
        "            accuracy = corrects.sum().float() / float( label.size(0) )\r\n",
        "            acc = (torch.softmax(preds, dim=1).argmax(dim=1) == label).sum().float() * 100 / float( label.size(0))\r\n",
        "\r\n",
        "            # Loss\r\n",
        "            loss = criterion(preds, label)\r\n",
        "            #Append loss & acc\r\n",
        "            loss_value = loss.item()\r\n",
        "            val_epoch_loss.append(loss_value)\r\n",
        "            val_epoch_accuracy.append(acc)\r\n",
        "\r\n",
        "            if loss_value < min_loss:\r\n",
        "                min_loss = loss_value\r\n",
        "                torch.save(model, \"/content/drive/MyDrive/Colab Notebooks/best_cnn_adam.pth\")\r\n",
        "\r\n",
        "    print(\"Epoch {}/{}, Loss: {:.3f}, Acc: {:.3f}, Val. Loss: {:.3f}, Val. Acc: {:.3f}\".format(\r\n",
        "        epoch+1,max_epoch, \r\n",
        "        train_epoch_loss[-1], \r\n",
        "        train_epoch_accuracy[-1],\r\n",
        "        val_epoch_loss[-1],\r\n",
        "        val_epoch_accuracy[-1]))\r\n",
        "\r\n",
        "\r\n",
        "    train_epoch_loss = np.mean(train_epoch_loss)\r\n",
        "    train_epoch_accuracy = np.mean(train_epoch_accuracy)\r\n",
        "    \r\n",
        "    val_epoch_loss = np.mean(val_epoch_loss)\r\n",
        "    val_epoch_accuracy = np.mean(val_epoch_accuracy)\r\n",
        "    \r\n",
        "    train_loss.append(train_epoch_loss)\r\n",
        "    train_accuracy.append(train_epoch_accuracy)\r\n",
        "    \r\n",
        "    val_loss.append(val_epoch_loss)\r\n",
        "    val_accuracy.append(val_epoch_accuracy)\r\n",
        "\r\n",
        "\r\n",
        "# plot losses vs epoch \r\n",
        "epochs = range(0, max_epoch)\r\n",
        "plt.plot(epochs, train_loss, 'g', label=\"Training Loss\")\r\n",
        "plt.plot(epochs, val_loss, 'r', label=\"Validation Loss\")\r\n",
        "plt.title(\"Loss vs Epoch\")\r\n",
        "plt.xlabel(\"Epoch\")\r\n",
        "plt.ylabel(\"Loss\")\r\n",
        "plt.legend()\r\n",
        "plt.show()\r\n",
        "\r\n",
        "# plot accuracies vs epoch\r\n",
        "plt.plot(epochs, train_accuracy, 'g', label=\"Training Accuracy\")\r\n",
        "plt.plot(epochs, val_accuracy, 'r', label=\"Validation Accuracy\")\r\n",
        "plt.title(\"Accuracy vs Epoch\")\r\n",
        "plt.xlabel(\"Epoch\")\r\n",
        "plt.ylabel(\"Accuracy\")\r\n",
        "plt.legend()\r\n",
        "plt.show()\r\n"
      ],
      "execution_count": 12,
      "outputs": [
        {
          "output_type": "stream",
          "text": [
            "/usr/local/lib/python3.6/dist-packages/ipykernel_launcher.py:25: UserWarning: Implicit dimension choice for log_softmax has been deprecated. Change the call to include dim=X as an argument.\n"
          ],
          "name": "stderr"
        },
        {
          "output_type": "stream",
          "text": [
            "Epoch 1/10, Loss: 2.169, Acc: 35.714, Val. Loss: 2.202, Val. Acc: 28.571\n",
            "Epoch 2/10, Loss: 2.142, Acc: 35.714, Val. Loss: 1.985, Val. Acc: 19.048\n",
            "Epoch 3/10, Loss: 2.119, Acc: 21.429, Val. Loss: 1.939, Val. Acc: 33.333\n",
            "Epoch 4/10, Loss: 2.088, Acc: 21.429, Val. Loss: 1.872, Val. Acc: 38.095\n",
            "Epoch 5/10, Loss: 2.135, Acc: 42.857, Val. Loss: 1.880, Val. Acc: 47.619\n",
            "Epoch 6/10, Loss: 2.020, Acc: 35.714, Val. Loss: 1.759, Val. Acc: 42.857\n",
            "Epoch 7/10, Loss: 2.433, Acc: 28.571, Val. Loss: 1.818, Val. Acc: 38.095\n",
            "Epoch 8/10, Loss: 2.024, Acc: 28.571, Val. Loss: 1.801, Val. Acc: 42.857\n",
            "Epoch 9/10, Loss: 1.495, Acc: 50.000, Val. Loss: 1.700, Val. Acc: 57.143\n",
            "Epoch 10/10, Loss: 2.071, Acc: 28.571, Val. Loss: 1.877, Val. Acc: 38.095\n"
          ],
          "name": "stdout"
        },
        {
          "output_type": "display_data",
          "data": {
            "image/png": "[encoded data removed]",
            "text/plain": [
              "<Figure size 432x288 with 1 Axes>"
            ]
          },
          "metadata": {
            "tags": [],
            "needs_background": "light"
          }
        },
        {
          "output_type": "display_data",
          "data": {
            "image/png": "[encoded data removed]",
            "text/plain": [
              "<Figure size 432x288 with 1 Axes>"
            ]
          },
          "metadata": {
            "tags": [],
            "needs_background": "light"
          }
        }
      ]
    },
    {
      "cell_type": "markdown",
      "metadata": {
        "id": "0iozVeXZAXiH"
      },
      "source": [
        "####Test with ADAM [15 pts.]\r\n",
        "\r\n",
        "Report the following for your best model on your test set which has not been seen by the model yet.\r\n",
        "1. A heatmap for confusion matrix\r\n",
        "2. Accuracy\r\n",
        "3. Macro Precision\r\n",
        "4. Macro Recall\r\n",
        "5. F1 Score\r\n",
        "\r\n",
        "Then, discuss figures that you have plotted in the previous section, your test results and algorithm complexity with maximum 200 words. Compare two **optimizers**. Which one is more preferable? Why?"
      ]
    },
    {
      "cell_type": "markdown",
      "metadata": {
        "id": "Z_w8uMkZxwxS"
      },
      "source": [
        "--> It can be seen from the output figures that even though I train the models with Adam optimizer with less epochs, they give better results in terms of accuracy and loss. In that case, Adam optimizer is more preferable. One of the most important advantage of using Adam instead of SGD optimizer is that Adam optimizer computes individual adaptive learning rates for different parameters. And also it is better on overall CNN models. \r\n",
        "\r\n",
        "Some downsides of Adam optimizer are that according to experiments, Adam optimizer should be faster than SGD but in my case, SGD was faster and Adam optimizer is accused of having convergence problems. \r\n",
        "\r\n",
        "As a result, I would choose Adam optimizer instead of SGD because it gives better accuracy and loss values in shorter train epochs even though each epoch takes longer time compared to epochs of SGD based training. "
      ]
    },
    {
      "cell_type": "code",
      "metadata": {
        "id": "yMj89kUtCR0F",
        "colab": {
          "base_uri": "https://localhost:8080/",
          "height": 468
        },
        "outputId": "f41b37cd-3753-4420-c648-5c7c43b851ee"
      },
      "source": [
        "# Test MLP\r\n",
        "# load best model\r\n",
        "best_path = \"/content/drive/MyDrive/Colab Notebooks/best_mlp_adam.pth\"\r\n",
        "model = torch.load(best_path)\r\n",
        "\r\n",
        "# define your loss function\r\n",
        "criterion = nn.CrossEntropyLoss()\r\n",
        "\r\n",
        "predss = []\r\n",
        "labels = []\r\n",
        "# evaluate on test set\r\n",
        "model = model.eval()\r\n",
        "with torch.no_grad():\r\n",
        "    for image, label in test_dataset_loader_mlp:\r\n",
        "        # Forward\r\n",
        "        out = model(image)\r\n",
        "        # Loss\r\n",
        "        loss = criterion(out, label)\r\n",
        "        losses = loss.item()\r\n",
        "\r\n",
        "        # Metrics\r\n",
        "        probs = torch.softmax(out, dim=1)\r\n",
        "\r\n",
        "        label = label.detach().numpy()[0]\r\n",
        "        preds = probs.detach().numpy()[0]\r\n",
        "\r\n",
        "        labels.append(label)\r\n",
        "        predss.append((np.where(preds == np.max(preds))[0] + 1)[0])\r\n",
        "\r\n",
        "    acc = accuracy_score(labels, predss)\r\n",
        "    conf_matrix = confusion_matrix(labels, predss)\r\n",
        "    pre = precision_score(labels, predss, average='macro')\r\n",
        "    recall = recall_score(labels, predss, average='macro')\r\n",
        "    f1 = f1_score(labels, predss, average='macro')\r\n",
        "\r\n",
        "# print metrics\r\n",
        "print(\"Mean Loss:\", losses, \"\\nMean Acc:\", acc,\"\\nMean Macro Precision:\", pre, \"\\nMean Macro Recall:\", recall, \"\\nMean Macro F1 Score:\", f1) \r\n",
        "\r\n",
        "# plot confusion matrix\r\n",
        "fig, ax = plt.subplots()\r\n",
        "im = ax.imshow(conf_matrix)\r\n",
        "# We want to show all ticks...\r\n",
        "ax.set_xticks(np.arange(15))\r\n",
        "ax.set_yticks(np.arange(15))\r\n",
        "\r\n",
        "fig.tight_layout()\r\n",
        "plt.show()"
      ],
      "execution_count": 13,
      "outputs": [
        {
          "output_type": "stream",
          "text": [
            "Mean Loss: 2.3789865970611572 \n",
            "Mean Acc: 0.06708809135399674 \n",
            "Mean Macro Precision: 0.058287749529367286 \n",
            "Mean Macro Recall: 0.06366471434815459 \n",
            "Mean Macro F1 Score: 0.054640649976958576\n"
          ],
          "name": "stdout"
        },
        {
          "output_type": "stream",
          "text": [
            "/usr/local/lib/python3.6/dist-packages/sklearn/metrics/_classification.py:1272: UndefinedMetricWarning: Precision is ill-defined and being set to 0.0 in labels with no predicted samples. Use `zero_division` parameter to control this behavior.\n",
            "  _warn_prf(average, modifier, msg_start, len(result))\n",
            "/usr/local/lib/python3.6/dist-packages/sklearn/metrics/_classification.py:1272: UndefinedMetricWarning: Recall is ill-defined and being set to 0.0 in labels with no true samples. Use `zero_division` parameter to control this behavior.\n",
            "  _warn_prf(average, modifier, msg_start, len(result))\n"
          ],
          "name": "stderr"
        },
        {
          "output_type": "display_data",
          "data": {
            "image/png": "[encoded data removed]",
            "text/plain": [
              "<Figure size 432x288 with 1 Axes>"
            ]
          },
          "metadata": {
            "tags": [],
            "needs_background": "light"
          }
        }
      ]
    },
    {
      "cell_type": "code",
      "metadata": {
        "id": "_t27l0hN9FqS",
        "colab": {
          "base_uri": "https://localhost:8080/",
          "height": 485
        },
        "outputId": "11f6ec0e-c4e8-4942-fe1c-8fb0a18aa852"
      },
      "source": [
        "# Test CNN\r\n",
        "# load best model\r\n",
        "best_path = \"/content/drive/MyDrive/Colab Notebooks/best_cnn_adam.pth\"\r\n",
        "model = torch.load(best_path)\r\n",
        "\r\n",
        "# define your loss function\r\n",
        "criterion = nn.CrossEntropyLoss()\r\n",
        "\r\n",
        "predss = []\r\n",
        "labels = []\r\n",
        "# evaluate on test set\r\n",
        "model = model.eval()\r\n",
        "with torch.no_grad():\r\n",
        "    for image, label in test_dataset_loader_cnn:\r\n",
        "        # Forward\r\n",
        "        out = model(image.permute(0,3,1,2))\r\n",
        "        # Loss\r\n",
        "        loss = criterion(out, label)\r\n",
        "        losses = loss.item()\r\n",
        "\r\n",
        "        # Metrics\r\n",
        "        probs = torch.softmax(out, dim=1)\r\n",
        "\r\n",
        "        label = label.detach().numpy()[0]\r\n",
        "        preds = probs.detach().numpy()[0]\r\n",
        "\r\n",
        "        labels.append(label)\r\n",
        "        predss.append((np.where(preds == np.max(preds))[0] + 1)[0])\r\n",
        "\r\n",
        "    acc = accuracy_score(labels, predss)\r\n",
        "    conf_matrix = confusion_matrix(labels, predss)\r\n",
        "    pre = precision_score(labels, predss, average='macro')\r\n",
        "    recall = recall_score(labels, predss, average='macro')\r\n",
        "    f1 = f1_score(labels, predss, average='macro')\r\n",
        "\r\n",
        "# print metrics\r\n",
        "print(\"Mean Loss:\", losses, \"\\nMean Acc:\", acc,\"\\nMean Macro Precision:\", pre, \"\\nMean Macro Recall:\", recall, \"\\nMean Macro F1 Score:\", f1) \r\n",
        "\r\n",
        "# plot confusion matrix\r\n",
        "fig, ax = plt.subplots()\r\n",
        "im = ax.imshow(conf_matrix)\r\n",
        "# We want to show all ticks...\r\n",
        "ax.set_xticks(np.arange(15))\r\n",
        "ax.set_yticks(np.arange(15))\r\n",
        "\r\n",
        "fig.tight_layout()\r\n",
        "plt.show()"
      ],
      "execution_count": 14,
      "outputs": [
        {
          "output_type": "stream",
          "text": [
            "/usr/local/lib/python3.6/dist-packages/ipykernel_launcher.py:25: UserWarning: Implicit dimension choice for log_softmax has been deprecated. Change the call to include dim=X as an argument.\n"
          ],
          "name": "stderr"
        },
        {
          "output_type": "stream",
          "text": [
            "Mean Loss: 2.2978243827819824 \n",
            "Mean Acc: 0.05464926590538336 \n",
            "Mean Macro Precision: 0.05084039107273325 \n",
            "Mean Macro Recall: 0.051565300297093976 \n",
            "Mean Macro F1 Score: 0.049106964432809784\n"
          ],
          "name": "stdout"
        },
        {
          "output_type": "stream",
          "text": [
            "/usr/local/lib/python3.6/dist-packages/sklearn/metrics/_classification.py:1272: UndefinedMetricWarning: Precision is ill-defined and being set to 0.0 in labels with no predicted samples. Use `zero_division` parameter to control this behavior.\n",
            "  _warn_prf(average, modifier, msg_start, len(result))\n",
            "/usr/local/lib/python3.6/dist-packages/sklearn/metrics/_classification.py:1272: UndefinedMetricWarning: Recall is ill-defined and being set to 0.0 in labels with no true samples. Use `zero_division` parameter to control this behavior.\n",
            "  _warn_prf(average, modifier, msg_start, len(result))\n"
          ],
          "name": "stderr"
        },
        {
          "output_type": "display_data",
          "data": {
            "image/png": "[encoded data removed]",
            "text/plain": [
              "<Figure size 432x288 with 1 Axes>"
            ]
          },
          "metadata": {
            "tags": [],
            "needs_background": "light"
          }
        }
      ]
    },
    {
      "cell_type": "code",
      "metadata": {
        "id": "iN0-FWy_-afk"
      },
      "source": [
        ""
      ],
      "execution_count": null,
      "outputs": []
    },
    {
      "cell_type": "markdown",
      "metadata": {
        "id": "9Zb0TbhgmMPc"
      },
      "source": [
        ""
      ]
    }
  ]
}